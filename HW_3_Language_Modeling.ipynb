{
  "cells": [
    {
      "cell_type": "markdown",
      "metadata": {
        "id": "8d68aa93"
      },
      "source": [
        "Submission Deadline: __November 20, 2023; 11:59 PM__\n",
        "\n",
        "A penalty will be applied for late submission. Please refer to the course policy for more detail.  \n",
        "\n",
        "## Instructions\n",
        "\n",
        "Please read the instructions carefully before you start working on the homework.\n",
        "\n",
        "- Please follow instructions and printed out the results as required. Keep the printed results and your implementation for grading purpose.\n",
        "    - The TAs will not run your code for grading purpose unless it is necessary. That means, you may lose some points if the printed results are not in the submitted file.\n",
        "- Submission should be via Canvas.\n",
        "    - If you use Google Colab for running the code, please download the file and submit it via Canvas once it's done.\n",
        "    - Submission via a Google Colab link will be considered as an invalid submission.\n",
        "- Please double check the submitted file once you upload it to Canvas.\n",
        "    - Students should be responsible for checking whether they submit the right files.\n",
        "    - Re-submission is not allowed once the deadline is passed.\n",
        "\n",
        "Also, if you missed the class lectures, please study the course materials first before working on the homework. It may save you some time."
      ],
      "id": "8d68aa93"
    },
    {
      "cell_type": "markdown",
      "metadata": {
        "id": "6befbf22"
      },
      "source": [
        "# Homework 03 Language Modeling"
      ],
      "id": "6befbf22"
    },
    {
      "cell_type": "code",
      "execution_count": null,
      "metadata": {
        "colab": {
          "base_uri": "https://localhost:8080/"
        },
        "id": "7a43e246",
        "outputId": "90622483-b597-443d-80a4-2e6def090365"
      },
      "outputs": [
        {
          "output_type": "stream",
          "name": "stdout",
          "text": [
            "Requirement already satisfied: tokenizers in /usr/local/lib/python3.10/dist-packages (0.15.0)\n",
            "Requirement already satisfied: huggingface_hub<1.0,>=0.16.4 in /usr/local/lib/python3.10/dist-packages (from tokenizers) (0.19.3)\n",
            "Requirement already satisfied: filelock in /usr/local/lib/python3.10/dist-packages (from huggingface_hub<1.0,>=0.16.4->tokenizers) (3.13.1)\n",
            "Requirement already satisfied: fsspec>=2023.5.0 in /usr/local/lib/python3.10/dist-packages (from huggingface_hub<1.0,>=0.16.4->tokenizers) (2023.6.0)\n",
            "Requirement already satisfied: requests in /usr/local/lib/python3.10/dist-packages (from huggingface_hub<1.0,>=0.16.4->tokenizers) (2.31.0)\n",
            "Requirement already satisfied: tqdm>=4.42.1 in /usr/local/lib/python3.10/dist-packages (from huggingface_hub<1.0,>=0.16.4->tokenizers) (4.66.1)\n",
            "Requirement already satisfied: pyyaml>=5.1 in /usr/local/lib/python3.10/dist-packages (from huggingface_hub<1.0,>=0.16.4->tokenizers) (6.0.1)\n",
            "Requirement already satisfied: typing-extensions>=3.7.4.3 in /usr/local/lib/python3.10/dist-packages (from huggingface_hub<1.0,>=0.16.4->tokenizers) (4.5.0)\n",
            "Requirement already satisfied: packaging>=20.9 in /usr/local/lib/python3.10/dist-packages (from huggingface_hub<1.0,>=0.16.4->tokenizers) (23.2)\n",
            "Requirement already satisfied: charset-normalizer<4,>=2 in /usr/local/lib/python3.10/dist-packages (from requests->huggingface_hub<1.0,>=0.16.4->tokenizers) (3.3.2)\n",
            "Requirement already satisfied: idna<4,>=2.5 in /usr/local/lib/python3.10/dist-packages (from requests->huggingface_hub<1.0,>=0.16.4->tokenizers) (3.4)\n",
            "Requirement already satisfied: urllib3<3,>=1.21.1 in /usr/local/lib/python3.10/dist-packages (from requests->huggingface_hub<1.0,>=0.16.4->tokenizers) (2.0.7)\n",
            "Requirement already satisfied: certifi>=2017.4.17 in /usr/local/lib/python3.10/dist-packages (from requests->huggingface_hub<1.0,>=0.16.4->tokenizers) (2023.7.22)\n",
            "Collecting datasets\n",
            "  Downloading datasets-2.15.0-py3-none-any.whl (521 kB)\n",
            "\u001b[2K     \u001b[90m━━━━━━━━━━━━━━━━━━━━━━━━━━━━━━━━━━━━━━━━\u001b[0m \u001b[32m521.2/521.2 kB\u001b[0m \u001b[31m6.3 MB/s\u001b[0m eta \u001b[36m0:00:00\u001b[0m\n",
            "\u001b[?25hRequirement already satisfied: numpy>=1.17 in /usr/local/lib/python3.10/dist-packages (from datasets) (1.23.5)\n",
            "Requirement already satisfied: pyarrow>=8.0.0 in /usr/local/lib/python3.10/dist-packages (from datasets) (9.0.0)\n",
            "Collecting pyarrow-hotfix (from datasets)\n",
            "  Downloading pyarrow_hotfix-0.5-py3-none-any.whl (7.8 kB)\n",
            "Collecting dill<0.3.8,>=0.3.0 (from datasets)\n",
            "  Downloading dill-0.3.7-py3-none-any.whl (115 kB)\n",
            "\u001b[2K     \u001b[90m━━━━━━━━━━━━━━━━━━━━━━━━━━━━━━━━━━━━━━━━\u001b[0m \u001b[32m115.3/115.3 kB\u001b[0m \u001b[31m8.9 MB/s\u001b[0m eta \u001b[36m0:00:00\u001b[0m\n",
            "\u001b[?25hRequirement already satisfied: pandas in /usr/local/lib/python3.10/dist-packages (from datasets) (1.5.3)\n",
            "Requirement already satisfied: requests>=2.19.0 in /usr/local/lib/python3.10/dist-packages (from datasets) (2.31.0)\n",
            "Requirement already satisfied: tqdm>=4.62.1 in /usr/local/lib/python3.10/dist-packages (from datasets) (4.66.1)\n",
            "Requirement already satisfied: xxhash in /usr/local/lib/python3.10/dist-packages (from datasets) (3.4.1)\n",
            "Collecting multiprocess (from datasets)\n",
            "  Downloading multiprocess-0.70.15-py310-none-any.whl (134 kB)\n",
            "\u001b[2K     \u001b[90m━━━━━━━━━━━━━━━━━━━━━━━━━━━━━━━━━━━━━━━━\u001b[0m \u001b[32m134.8/134.8 kB\u001b[0m \u001b[31m8.8 MB/s\u001b[0m eta \u001b[36m0:00:00\u001b[0m\n",
            "\u001b[?25hRequirement already satisfied: fsspec[http]<=2023.10.0,>=2023.1.0 in /usr/local/lib/python3.10/dist-packages (from datasets) (2023.6.0)\n",
            "Requirement already satisfied: aiohttp in /usr/local/lib/python3.10/dist-packages (from datasets) (3.8.6)\n",
            "Requirement already satisfied: huggingface-hub>=0.18.0 in /usr/local/lib/python3.10/dist-packages (from datasets) (0.19.3)\n",
            "Requirement already satisfied: packaging in /usr/local/lib/python3.10/dist-packages (from datasets) (23.2)\n",
            "Requirement already satisfied: pyyaml>=5.1 in /usr/local/lib/python3.10/dist-packages (from datasets) (6.0.1)\n",
            "Requirement already satisfied: attrs>=17.3.0 in /usr/local/lib/python3.10/dist-packages (from aiohttp->datasets) (23.1.0)\n",
            "Requirement already satisfied: charset-normalizer<4.0,>=2.0 in /usr/local/lib/python3.10/dist-packages (from aiohttp->datasets) (3.3.2)\n",
            "Requirement already satisfied: multidict<7.0,>=4.5 in /usr/local/lib/python3.10/dist-packages (from aiohttp->datasets) (6.0.4)\n",
            "Requirement already satisfied: async-timeout<5.0,>=4.0.0a3 in /usr/local/lib/python3.10/dist-packages (from aiohttp->datasets) (4.0.3)\n",
            "Requirement already satisfied: yarl<2.0,>=1.0 in /usr/local/lib/python3.10/dist-packages (from aiohttp->datasets) (1.9.2)\n",
            "Requirement already satisfied: frozenlist>=1.1.1 in /usr/local/lib/python3.10/dist-packages (from aiohttp->datasets) (1.4.0)\n",
            "Requirement already satisfied: aiosignal>=1.1.2 in /usr/local/lib/python3.10/dist-packages (from aiohttp->datasets) (1.3.1)\n",
            "Requirement already satisfied: filelock in /usr/local/lib/python3.10/dist-packages (from huggingface-hub>=0.18.0->datasets) (3.13.1)\n",
            "Requirement already satisfied: typing-extensions>=3.7.4.3 in /usr/local/lib/python3.10/dist-packages (from huggingface-hub>=0.18.0->datasets) (4.5.0)\n",
            "Requirement already satisfied: idna<4,>=2.5 in /usr/local/lib/python3.10/dist-packages (from requests>=2.19.0->datasets) (3.4)\n",
            "Requirement already satisfied: urllib3<3,>=1.21.1 in /usr/local/lib/python3.10/dist-packages (from requests>=2.19.0->datasets) (2.0.7)\n",
            "Requirement already satisfied: certifi>=2017.4.17 in /usr/local/lib/python3.10/dist-packages (from requests>=2.19.0->datasets) (2023.7.22)\n",
            "Requirement already satisfied: python-dateutil>=2.8.1 in /usr/local/lib/python3.10/dist-packages (from pandas->datasets) (2.8.2)\n",
            "Requirement already satisfied: pytz>=2020.1 in /usr/local/lib/python3.10/dist-packages (from pandas->datasets) (2023.3.post1)\n",
            "Requirement already satisfied: six>=1.5 in /usr/local/lib/python3.10/dist-packages (from python-dateutil>=2.8.1->pandas->datasets) (1.16.0)\n",
            "Installing collected packages: pyarrow-hotfix, dill, multiprocess, datasets\n",
            "Successfully installed datasets-2.15.0 dill-0.3.7 multiprocess-0.70.15 pyarrow-hotfix-0.5\n"
          ]
        }
      ],
      "source": [
        "! pip install livelossplot --quiet\n",
        "! pip install tokenizers\n",
        "! pip install datasets"
      ],
      "id": "7a43e246"
    },
    {
      "cell_type": "code",
      "execution_count": null,
      "metadata": {
        "id": "13ef94bb"
      },
      "outputs": [],
      "source": [
        "from typing import List, Tuple, Callable\n",
        "import nltk\n",
        "import matplotlib.pyplot as plt\n",
        "import seaborn as sns\n",
        "from tqdm import tqdm\n",
        "from nltk.util import ngrams\n",
        "from nltk.lm import MLE\n",
        "from nltk.tokenize import word_tokenize\n",
        "import string as string\n",
        "from nltk.util import ngrams\n",
        "import numpy as np"
      ],
      "id": "13ef94bb"
    },
    {
      "cell_type": "code",
      "source": [
        "from google.colab import drive\n",
        "drive.mount('/content/drive')"
      ],
      "metadata": {
        "colab": {
          "base_uri": "https://localhost:8080/"
        },
        "id": "96zXwzjHNvDL",
        "outputId": "fe3c2a50-06f8-4ef6-9964-e29d0dab9232"
      },
      "id": "96zXwzjHNvDL",
      "execution_count": null,
      "outputs": [
        {
          "output_type": "stream",
          "name": "stdout",
          "text": [
            "Mounted at /content/drive\n"
          ]
        }
      ]
    },
    {
      "cell_type": "markdown",
      "metadata": {
        "id": "5911d1ff"
      },
      "source": [
        "# Task: Language Modeling"
      ],
      "id": "5911d1ff"
    },
    {
      "cell_type": "markdown",
      "metadata": {
        "id": "ebe9d7ad"
      },
      "source": [
        "Language modeling is a task in natural language processing where the goal is to predict the next word in a sequence of words. Given a sequence of words as input, the model predicts the probability distribution over the vocabulary for the next word. The output is a label representing the most likely next word.\n",
        "\n",
        "For instance, if the input sequence is \"the quick brown fox\", the model will predict the probability distribution over the vocabulary for the next word, which could be \"jumped\", \"ran\", or any other word in the language.\n",
        "\n",
        "In this assignment, we will perform language modeling using the [WikiText dataset](https://blog.salesforceairesearch.com/the-wikitext-long-term-dependency-language-modeling-dataset/), which contains a large collection of text from Wikipedia articles. The task involves training models to generate coherent and contextually appropriate text, making it a fundamental problem in natural language processing.\n"
      ],
      "id": "ebe9d7ad"
    },
    {
      "cell_type": "markdown",
      "metadata": {
        "id": "d5d2fc14"
      },
      "source": [
        "# 1: N-Gram Language Modeling:  \n",
        "\n",
        "In the context of n-grams, language modeling involes estimating the likelihood of a sequence of words/tokens based on the history of preceding words.\n",
        "\n",
        "\n",
        "The goal of this portion of the assignment is to implement n-gram language models for values of $n \\in [ 2, 4, 8]$, generate sample text, and calculate the perplexity of each n-gram model on the train set."
      ],
      "id": "d5d2fc14"
    },
    {
      "cell_type": "code",
      "execution_count": null,
      "metadata": {
        "colab": {
          "base_uri": "https://localhost:8080/"
        },
        "id": "eb318baa",
        "outputId": "4e2455a9-afad-4545-8201-cec263442783"
      },
      "outputs": [
        {
          "output_type": "stream",
          "name": "stdout",
          "text": [
            "Archive:  wiki.zip\n",
            "   creating: wiki/\n",
            "  inflating: wiki/dev-wiki.txt       \n",
            "  inflating: wiki/test-wiki.txt      \n",
            "  inflating: wiki/trn-wiki.txt       \n",
            "Done\n"
          ]
        }
      ],
      "source": [
        "# Download the data\n",
        "!rm -rf wiki wiki.zip\n",
        "import urllib.request\n",
        "url = \"https://yangfengji.net/uva-nlp-grad/data/wiki.zip\"\n",
        "filename, headers = urllib.request.urlretrieve(url, filename=\"wiki.zip\")\n",
        "!unzip wiki.zip\n",
        "print(\"Done\")"
      ],
      "id": "eb318baa"
    },
    {
      "cell_type": "markdown",
      "metadata": {
        "id": "ca3e1fba"
      },
      "source": [
        "## 1.1 Data Preprocessing : (2 points)\n",
        "\n",
        "###### Complete the following code block to create the tokenizer necessary for the proceeeding experiments\n",
        "\n",
        "- Create the train tokenizer with the following properties\n",
        "    - Add a special **\\<unk\\>** token to replace any OOV tokens\n",
        "    - Replace numeric tokens with the **\\<num\\>** token\n",
        "    - Remove punctuation and symbols\n",
        "    - Ensure the tokenizer prepends a **\\<bos\\>** and appends an **\\<eos\\>** token to every sequence\n",
        "    \n",
        "- Train the tokenizer on the train set of Wiki-Text\n",
        "\n",
        "Please\n",
        "\n",
        "- Print the vocabulary size of the tokenizer, using a necessary description of the printed result\n",
        "- **N.B.** You may want to make use of the [huggingface tokenizer docs.](https://huggingface.co/docs/tokenizers/components)"
      ],
      "id": "ca3e1fba"
    },
    {
      "cell_type": "code",
      "execution_count": null,
      "metadata": {
        "id": "1dadb078"
      },
      "outputs": [],
      "source": [
        "from tokenizers import Tokenizer, processors,normalizers\n",
        "from tokenizers import pre_tokenizers\n",
        "from tokenizers.pre_tokenizers import WhitespaceSplit\n",
        "from tokenizers import Tokenizer\n",
        "from tokenizers import  trainers\n",
        "from tokenizers.models import WordLevel\n",
        "from tokenizers.trainers import WordLevelTrainer\n",
        "from tokenizers.processors import TemplateProcessing\n",
        "import re"
      ],
      "id": "1dadb078"
    },
    {
      "cell_type": "code",
      "source": [
        "from tokenizers import Regex\n",
        "\n"
      ],
      "metadata": {
        "id": "LFqqw_2gQ5dm"
      },
      "id": "LFqqw_2gQ5dm",
      "execution_count": null,
      "outputs": []
    },
    {
      "cell_type": "code",
      "execution_count": null,
      "metadata": {
        "id": "66861330"
      },
      "outputs": [],
      "source": [
        "\n",
        "\n",
        "# define the tokenizer with the help of the huggingface docs:\n",
        "# https://huggingface.co/docs/tokenizers/index\n",
        "#-> tokenizers.Tokenizer\n",
        "def train_tokenizer(fname: str) :\n",
        "    \"\"\"\n",
        "    Args:\n",
        "        fname: the name of the wiki.txt file\n",
        "\n",
        "    Returns: Huggingface Tokenizer\n",
        "    \"\"\"\n",
        "    pattern = r'-?\\d+(\\.\\d+)?'\n",
        "    pattern=Regex(pattern)\n",
        "    PAD_TOKEN = '<pad>'\n",
        "    UNK_TOKEN = '<unk>'\n",
        "    NUM_TOKEN = '<num>'\n",
        "    START_TOKEN= '<bos>'\n",
        "    END_TOKEN= '<eos>'\n",
        "    tokenizer = Tokenizer(WordLevel(unk_token=UNK_TOKEN))\n",
        "    tokenizer.normalizer = normalizers.Sequence(\n",
        "    [normalizers.Lowercase(),normalizers.Replace(pattern,NUM_TOKEN)])\n",
        "#)\n",
        "    tokenizer.pre_tokenizer = pre_tokenizers.Sequence([\n",
        "\n",
        "        pre_tokenizers.Punctuation(behavior='removed'),  # Remove punctuation and symbols\n",
        "        pre_tokenizers.Whitespace()  # Split based on whitespace\n",
        "    ])\n",
        "\n",
        "    trainer = trainers.WordLevelTrainer(\n",
        "        special_tokens=[PAD_TOKEN, UNK_TOKEN, NUM_TOKEN, START_TOKEN, END_TOKEN],\n",
        "        unk_token=UNK_TOKEN\n",
        "\n",
        "    )\n",
        "\n",
        "\n",
        "\n",
        "\n",
        "    files = [fname]\n",
        "    tokenizer.train(files, trainer)\n",
        "\n",
        "    tokenizer.post_processor = processors.TemplateProcessing(\n",
        "    single=f\"<bos> $A <eos>\",\n",
        "    special_tokens=[\n",
        "        (PAD_TOKEN, 0),\n",
        "        (UNK_TOKEN, 1),\n",
        "        (NUM_TOKEN, 2),\n",
        "        (START_TOKEN, 3),\n",
        "        (END_TOKEN, 4),\n",
        "    ],\n",
        "    )\n",
        "\n",
        "\n",
        "\n",
        "\n",
        "    # =============================\n",
        "    # TODO:\n",
        "    return tokenizer"
      ],
      "id": "66861330"
    },
    {
      "cell_type": "code",
      "execution_count": null,
      "metadata": {
        "id": "7ae93002"
      },
      "outputs": [],
      "source": [
        "# =============================\n",
        "# TODO: Train the tokenizer\n",
        "tokenizer = train_tokenizer(\"/content/wiki/trn-wiki.txt\")"
      ],
      "id": "7ae93002"
    },
    {
      "cell_type": "code",
      "execution_count": null,
      "metadata": {
        "id": "8232d914",
        "colab": {
          "base_uri": "https://localhost:8080/"
        },
        "outputId": "6bac3ab4-fa88-448d-ee67-13e11cf045fd"
      },
      "outputs": [
        {
          "output_type": "stream",
          "name": "stdout",
          "text": [
            "Vocabulary size: 27352\n"
          ]
        }
      ],
      "source": [
        "# =============================\n",
        "# TODO: Print the Vocab size\n",
        "vocab_size = tokenizer.get_vocab_size()\n",
        "\n",
        "print(f\"Vocabulary size: {vocab_size}\")\n"
      ],
      "id": "8232d914"
    },
    {
      "cell_type": "code",
      "execution_count": null,
      "metadata": {
        "id": "8edcc30b"
      },
      "outputs": [],
      "source": [
        "from tokenizers import Tokenizer\n",
        "def sanity_check(tokenizer: Tokenizer,\n",
        "                sample_text: str):\n",
        "    \"\"\"\n",
        "    Args:\n",
        "\n",
        "    \"\"\"\n",
        "\n",
        "\n",
        "\n",
        "    try:\n",
        "        tokens = tokenizer.encode(sample_text).tokens\n",
        "        assert tokens[0] == '<bos>'\n",
        "        assert tokens[-1] == '<eos>'\n",
        "        assert all(token.islower() for token in tokens)\n",
        "        assert len(tokens) == len(sample_text.split(' ')) + 2\n",
        "\n",
        "        print('Sanity Check Passed')\n",
        "        print(tokens)\n",
        "    except AssertionError as e:\n",
        "        print('Tokenizer failed sanity check')\n",
        "        print(tokens)\n",
        "    return"
      ],
      "id": "8edcc30b"
    },
    {
      "cell_type": "code",
      "execution_count": null,
      "metadata": {
        "id": "355f61ce",
        "colab": {
          "base_uri": "https://localhost:8080/"
        },
        "outputId": "a214abeb-e2aa-4642-8628-c0dc5bd72410"
      },
      "outputs": [
        {
          "output_type": "stream",
          "name": "stdout",
          "text": [
            "Sanity Check Passed\n",
            "['<bos>', 'the', 'quick', 'brown', 'fox', 'jumped', 'over', 'the', 'lazy', 'dog', '<eos>']\n"
          ]
        }
      ],
      "source": [
        "sample_text='The quick Brown fox Jumped over the lazy dog'\n",
        "sanity_check(tokenizer, sample_text)"
      ],
      "id": "355f61ce"
    },
    {
      "cell_type": "markdown",
      "metadata": {
        "id": "46b274af"
      },
      "source": [
        "# 1.2 Train the N-Gram Model : (2 pts)  \n",
        "\n",
        "If the tokenizer passed the basic sanity check then proceed.\n",
        "\n",
        "**TODO**\n",
        " - Train n-gram models for $n \\in \\{ 2, 4, 6, 8, 10\\}$\n",
        " - Complete the get_ngrams function below, to return a list of all the n-grams\n",
        "     - Each entry in this list represents all the n-grams for a given sentence\n",
        " - For each n-gram model, fit the model to it respective set of n-grams"
      ],
      "id": "46b274af"
    },
    {
      "cell_type": "code",
      "source": [],
      "metadata": {
        "id": "fwzY0jxgM7_g"
      },
      "id": "fwzY0jxgM7_g",
      "execution_count": null,
      "outputs": []
    },
    {
      "cell_type": "code",
      "execution_count": null,
      "metadata": {
        "id": "749aa424"
      },
      "outputs": [],
      "source": [
        "import tokenizers\n",
        "\"\"\"\n",
        "    Args:\n",
        "        fname:\n",
        "\n",
        "    Returns:\n",
        "        all_ngrams: list of all n-grams\n",
        "        or all sentences\n",
        "    \"\"\"\n",
        "\n",
        "\n",
        "def get_ngrams(fname: str,\n",
        "                  tokenizer: tokenizers.Tokenizer,\n",
        "                    n: int) -> List[str]:\n",
        "\n",
        "    all_ngrams = []\n",
        "\n",
        "    with open(fname, 'r') as file:\n",
        "      sentences = file.readlines()\n",
        "\n",
        "    print(len(sentences))\n",
        "    for sentence in sentences:\n",
        "      tokenized_sentence = tokenizer.encode(sentence).tokens\n",
        "      given_ngrams = ngrams(tokenized_sentence,n)\n",
        "\n",
        "      sentence_ngrams = list(given_ngrams)\n",
        "\n",
        "      all_ngrams.append(sentence_ngrams)\n",
        "\n",
        "    print(\"finished n_grams creation\")\n",
        "    return all_ngrams"
      ],
      "id": "749aa424"
    },
    {
      "cell_type": "code",
      "execution_count": null,
      "metadata": {
        "id": "52Lt2yJrg9oN"
      },
      "outputs": [],
      "source": [
        "# =============================\n",
        "# TODO: Train the n-gram models\n",
        "\n",
        "def trainNgram(fname,n,tokenizer):\n",
        "    train_data=get_ngrams(fname, tokenizer, n)\n",
        "    #print('hoise',train_data)\n",
        "    lm=MLE(n)\n",
        "    lm.fit(train_data,tokenizer.get_vocab())\n",
        "    return lm,train_data\n",
        "\n",
        "#vocab_size = tokenizer.get_vocab_size()\n",
        "\n",
        "#print(f\"Vocabulary size: {vocab_size}\")\n",
        "#fname=\"/content/wiki/new.txt\"\n",
        "#lm=trainNgram(fname, 2,tokenizer)"
      ],
      "id": "52Lt2yJrg9oN"
    },
    {
      "cell_type": "markdown",
      "metadata": {
        "id": "ea825a80"
      },
      "source": [
        "# 1.3  Compute N-Gram Perplexity  (2 pts)\n",
        "\n",
        "### Perplexity is a measure of how well a given distribution predicts a sample. In the context of language modeling, the perplexity is based on how well the model predicts a given corpus. The formula for computing perplexity-per-word of an n-gram model is given by:  \n",
        "\n",
        "$$\\text{PPW} = 2^{\\frac{1}{W} \\sum_{i=1}^{N} H(p, q)}$$\n",
        "\n",
        "where: $$ H(p, q) = -\\sum_{x} p(x) log(q()) $$\n",
        "\n",
        "$H(p,q)$ may be interpreted as the cross-entropy between the distributions. However, for the n-gram model, nltk provides a [function which computes the perplexity](https://www.nltk.org/api/nltk.lm.api.html#nltk.lm.api.LanguageModel.perplexity).\n",
        "\n",
        "**TODO**\n",
        "- $\\text{For n} \\in \\{2, 4, 6, 8 ,1 0\\}$, compute the perplexity of each n-gram model on the train set\n",
        "- You will need the $\\texttt{get_ngrams}$ function in your $\\texttt{ngram_perplexity}$ function"
      ],
      "id": "ea825a80"
    },
    {
      "cell_type": "code",
      "source": [
        "def flatten_list(input_list):\n",
        "    return [item for sublist in input_list for item in (flatten_list(sublist) if isinstance(sublist, list) else [sublist])]\n"
      ],
      "metadata": {
        "id": "VLZ4A5j2bbBv"
      },
      "id": "VLZ4A5j2bbBv",
      "execution_count": null,
      "outputs": []
    },
    {
      "cell_type": "code",
      "execution_count": null,
      "metadata": {
        "id": "9bedffb0"
      },
      "outputs": [],
      "source": [
        "def ngram_perplexity(fname: str,\n",
        "                     n:int,\n",
        "                    tokenizer: tokenizers.Tokenizer,\n",
        "                    ) -> float:\n",
        "    \"\"\"\n",
        "    Arg:\n",
        "    Returns:\n",
        "    \"\"\"\n",
        "\n",
        "\n",
        "    lm,train_data=trainNgram(fname,n,tokenizer)\n",
        "    #train_data=get_ngrams(fname, tokenizer, n)\n",
        "\n",
        "    train_data=flatten_list(train_data)\n",
        "    perplexity=lm.perplexity(train_data)\n",
        "\n",
        "    return perplexity\n"
      ],
      "id": "9bedffb0"
    },
    {
      "cell_type": "code",
      "source": [
        "fname=\"/content/wiki/trn-wiki.txt\"\n",
        "\n",
        "p=ngram_perplexity(fname,2,tokenizer)\n",
        "print(f\"perplexity {p}\")"
      ],
      "metadata": {
        "colab": {
          "base_uri": "https://localhost:8080/"
        },
        "id": "Er52kTv0quHd",
        "outputId": "bf43dd6d-11e4-4eeb-d2fd-aa45a70782f1"
      },
      "id": "Er52kTv0quHd",
      "execution_count": null,
      "outputs": [
        {
          "output_type": "stream",
          "name": "stdout",
          "text": [
            "111565\n",
            "finished n_grams creation\n",
            "perplexity 88.08907432851937\n"
          ]
        }
      ]
    },
    {
      "cell_type": "code",
      "execution_count": null,
      "metadata": {
        "id": "5f1118d1",
        "colab": {
          "base_uri": "https://localhost:8080/"
        },
        "outputId": "d5101b74-5d06-4aa6-ae46-a7f92358b459"
      },
      "outputs": [
        {
          "output_type": "stream",
          "name": "stdout",
          "text": [
            "111565\n",
            "finished n_grams creation\n",
            "111565\n",
            "finished n_grams creation\n",
            "111565\n",
            "finished n_grams creation\n",
            "111565\n",
            "finished n_grams creation\n",
            "111565\n",
            "finished n_grams creation\n",
            "perplexity list: [88.08907432851937, 1.8528113108752913, 1.0516254872950843, 1.0076217047233984, 1.002317829498047]\n"
          ]
        }
      ],
      "source": [
        "#\n",
        "fname=\"/content/wiki/trn-wiki.txt\"\n",
        "perplexities=[]\n",
        "n=[2,4,6,8,10]\n",
        "for _n in n:\n",
        "  p=ngram_perplexity(fname,_n,tokenizer)\n",
        "  perplexities.append(p)\n",
        "\n",
        "\n",
        "print(f\"perplexity list: {perplexities}\")\n",
        "# =============================\n",
        "# TODO: compute the perplexity for varying values of n"
      ],
      "id": "5f1118d1"
    },
    {
      "cell_type": "markdown",
      "metadata": {
        "id": "fce83dfb"
      },
      "source": [
        "# 1.4 Plot N-gram Size vs Perplexity : (2 pts)  \n",
        "\n",
        "**TODO**:\n",
        " - $\\text{For n} \\in \\{2, 4, 6, 8 ,1 0\\}$ plot the N-Gram size vs Perplexity for each of the n-gram models"
      ],
      "id": "fce83dfb"
    },
    {
      "cell_type": "code",
      "execution_count": null,
      "metadata": {
        "id": "16e116ef",
        "colab": {
          "base_uri": "https://localhost:8080/",
          "height": 564
        },
        "outputId": "4faab831-7158-41ea-e7dc-73f0ece07af2"
      },
      "outputs": [
        {
          "output_type": "display_data",
          "data": {
            "text/plain": [
              "<Figure size 800x600 with 1 Axes>"
            ],
            "image/png": "[encoded data removed]"
          },
          "metadata": {}
        }
      ],
      "source": [
        "# =============================\n",
        "# TODO: create the plots\n",
        "\n",
        "import matplotlib.pyplot as plt\n",
        "\n",
        "# Given n-values and corresponding perplexity values\n",
        "n_values = [2, 4, 6, 8, 10]\n",
        "#### perplexity_values = [100, 80, 60, 40, 20]  # Replace these values with your actual perplexity values\n",
        "\n",
        "# Plotting\n",
        "plt.figure(figsize=(8, 6))\n",
        "plt.plot(n_values,perplexities, marker='o', linestyle='-', color='b')\n",
        "plt.title(' n-values vs perplexity')\n",
        "plt.ylabel('Perplexity')\n",
        "plt.xlabel('n-values')\n",
        "plt.grid(True)\n",
        "plt.show()"
      ],
      "id": "16e116ef"
    },
    {
      "cell_type": "markdown",
      "metadata": {
        "id": "5864add1"
      },
      "source": [
        "# 1.4 Interpretation of N-gram Size vs Perplexity : (1 pt)  \n",
        "\n",
        "**TODO**: In the Markdown cell below, explain the effect you observe, why do you think this is the case?"
      ],
      "id": "5864add1"
    },
    {
      "cell_type": "markdown",
      "source": [
        "Here at the beginning when there is only one previous token, the perplexity is higher as it does not have enough context. With the increase of n value, the model is having more information about the context, as a result it could predict better. Surprisingly, just adding 2 extra previous tokens improves a lot for n=4 from n=2. However, after n=8 it does not improve much. It seems like it is converging somewhere between n=8 to n=10. In that case adding any more context will not improve much."
      ],
      "metadata": {
        "id": "V9MJ2QYqoyt7"
      },
      "id": "V9MJ2QYqoyt7"
    },
    {
      "cell_type": "code",
      "execution_count": null,
      "metadata": {
        "id": "7bc0975e"
      },
      "outputs": [],
      "source": [],
      "id": "7bc0975e"
    },
    {
      "cell_type": "markdown",
      "metadata": {
        "id": "f8d2eaa0"
      },
      "source": [
        "# Simple RNN LM"
      ],
      "id": "f8d2eaa0"
    },
    {
      "cell_type": "markdown",
      "metadata": {
        "id": "71c1b23e"
      },
      "source": [
        "# 2.1 Train a Recurrent Neural Network on the Train Set of Wiki-Text\n",
        "## Preprocessing (1pt)\n",
        "\n",
        "**TODO**\n",
        "- use the tokenizer to preprocess the text and create the necessary dataloaders\n",
        "- enable padding for the tokenizer"
      ],
      "id": "71c1b23e"
    },
    {
      "cell_type": "code",
      "execution_count": null,
      "metadata": {
        "id": "bd1adb4c"
      },
      "outputs": [],
      "source": [
        "import torch\n",
        "import torch.nn as nn\n",
        "from livelossplot import PlotLosses\n",
        "\n",
        "\n",
        "plotlosses = PlotLosses()"
      ],
      "id": "bd1adb4c"
    },
    {
      "cell_type": "code",
      "execution_count": null,
      "metadata": {
        "id": "f2e8c996",
        "colab": {
          "base_uri": "https://localhost:8080/"
        },
        "outputId": "bbb20a6a-4cfa-4b8a-d43a-26e82d46fc38"
      },
      "outputs": [
        {
          "output_type": "stream",
          "name": "stdout",
          "text": [
            "CUDA is available. Using GPU.\n"
          ]
        }
      ],
      "source": [
        "# Check if CUDA is available\n",
        "if torch.cuda.is_available():\n",
        "    device = torch.device(\"cuda\")\n",
        "    print(\"CUDA is available. Using GPU.\")\n",
        "else:\n",
        "    device = torch.device(\"cpu\")\n",
        "    print(\"CUDA is not available. Using CPU.\")\n",
        "#device = torch.device(\"cpu\")"
      ],
      "id": "f2e8c996"
    },
    {
      "cell_type": "code",
      "execution_count": null,
      "metadata": {
        "id": "92042ea0"
      },
      "outputs": [],
      "source": [
        "# =============================\n",
        "# TODO: enable padding for tokenizer\n",
        "tokenizer.enable_padding()"
      ],
      "id": "92042ea0"
    },
    {
      "cell_type": "code",
      "execution_count": null,
      "metadata": {
        "id": "41f27da2",
        "colab": {
          "base_uri": "https://localhost:8080/",
          "height": 145,
          "referenced_widgets": [
            "fbc83324b29b4faba105cbcd904587e2",
            "5053dcb829574a678681c503b0c47e4b",
            "2faf66a12c1a4e1eb7b2c9b154466965",
            "ee932fa971f740a89fad70c64aef8a6c",
            "87b5e6bd86a54bb8a0c0094bc643f092",
            "f722447897494a248d0c17a0dfc96aab",
            "0ba7f267e89e4a03bcc3151578bf28b7",
            "08f3599e10ca4297bc3c0b4fcdd33502",
            "9b1354639e7240dc8f856a6698328b58",
            "1b93c8ef6b784de286dbd214d8b38807",
            "a94b7c8c215c4b09a8971f12e8534a53",
            "bfee6f6f8ecb4f49a511c01d7cdc6bc9",
            "aa3fd253c4d3443b9ba61cba15aaed41",
            "cbae222846fb48189737c2177506362a",
            "1ce2421d28ac42348cef771a208416aa",
            "564e40da4c07487dab4ae39ab0d49756",
            "f6804c26c8b3496ea3d65a19ba1de356",
            "9390fd56d49e465aa2ee164223e7f185",
            "f652760c7e6a4ff496c56af5e6a15c55",
            "d72b643bca4c4a8487a8496fa978993e",
            "a3ec8002604a47c2b7405339f5ee3d91",
            "a719c5cc84a24b1ca9f9af3ba5e98ef6",
            "fb85fc180ac64291b07b282017b3952a",
            "486e1b0ddb204ebca13c1d8f8c37f52c",
            "87fffcd4ff414fa2bf8f9f4419cbf4cd",
            "4bf3b14342564f439d310a1ccefb271d",
            "859e5f14b8f04ffd8ebb32ba085ce59e",
            "60cf930e34cd4b75859f635feb355c43",
            "fb0b7f756375412580b6319d08c7aeb6",
            "b727cb13860840d0aa6c36a0e96ea0aa",
            "d3e844d918504908b162f84909a955b5",
            "34111279c9b144d1aa88f992f2c95912",
            "d6fbd8c1f6c7401cbf77533636fa7c32",
            "e40a8c6ea0b545ab9cc9ee7616593d42",
            "cbb3b03e86634906ad0bc449b8babf2d",
            "2365644a62394afb8e0aa88e4bcffc43",
            "9889d0bf98324a28877d2f1539bfd7a5",
            "cf8676fcab924ff5a515db6d142fe99c",
            "c8368ccd717a4f24adbc6ac0b2f00744",
            "619b093e4fd84ff29fae1a15965d7272",
            "1bd31223a4ab49e2ad120198f77ea2f4",
            "d98f2a1613224c31929d2409782c7213",
            "87c817a4c9004d2c8baaa518b5fc4c39",
            "b6d246d3158546fd9f746e9d7b21b000"
          ]
        },
        "outputId": "7da45d2d-667c-465c-f61c-44e1db33311a"
      },
      "outputs": [
        {
          "output_type": "display_data",
          "data": {
            "text/plain": [
              "Downloading data files:   0%|          | 0/2 [00:00<?, ?it/s]"
            ],
            "application/vnd.jupyter.widget-view+json": {
              "version_major": 2,
              "version_minor": 0,
              "model_id": "fbc83324b29b4faba105cbcd904587e2"
            }
          },
          "metadata": {}
        },
        {
          "output_type": "display_data",
          "data": {
            "text/plain": [
              "Extracting data files:   0%|          | 0/2 [00:00<?, ?it/s]"
            ],
            "application/vnd.jupyter.widget-view+json": {
              "version_major": 2,
              "version_minor": 0,
              "model_id": "bfee6f6f8ecb4f49a511c01d7cdc6bc9"
            }
          },
          "metadata": {}
        },
        {
          "output_type": "display_data",
          "data": {
            "text/plain": [
              "Generating train split: 0 examples [00:00, ? examples/s]"
            ],
            "application/vnd.jupyter.widget-view+json": {
              "version_major": 2,
              "version_minor": 0,
              "model_id": "fb85fc180ac64291b07b282017b3952a"
            }
          },
          "metadata": {}
        },
        {
          "output_type": "display_data",
          "data": {
            "text/plain": [
              "Generating dev split: 0 examples [00:00, ? examples/s]"
            ],
            "application/vnd.jupyter.widget-view+json": {
              "version_major": 2,
              "version_minor": 0,
              "model_id": "e40a8c6ea0b545ab9cc9ee7616593d42"
            }
          },
          "metadata": {}
        }
      ],
      "source": [
        "#https://huggingface.co/docs/datasets/loading_datasets.html\n",
        "from datasets import load_dataset\n",
        "import torch.utils\n",
        "dataset = load_dataset('text', data_files={'train': 'wiki/trn-wiki.txt', 'dev': 'wiki/dev-wiki.txt'})"
      ],
      "id": "41f27da2"
    },
    {
      "cell_type": "markdown",
      "metadata": {
        "id": "efaec245"
      },
      "source": [
        "## 2.1.1 Dataloaders and Padding\n",
        "**TODO**\n",
        "- Create the train and dev_dataloaders"
      ],
      "id": "efaec245"
    },
    {
      "cell_type": "code",
      "execution_count": null,
      "metadata": {
        "id": "e24c26fb"
      },
      "outputs": [],
      "source": [
        "\n",
        "def collate(examples: List[str]) -> torch.Tensor:\n",
        "    \"\"\"\n",
        "    Args:\n",
        "        examples\n",
        "    \"\"\"\n",
        "    return torch.LongTensor([ex.ids for ex in tokenizer.encode_batch(examples)])\n",
        "\n",
        "# =============================\n",
        "# TODO: define dataloaders\n",
        "\n",
        "train_dataloader = torch.utils.data.DataLoader(dataset[\"train\"][\"text\"], batch_size=32, shuffle=True, collate_fn=collate)\n",
        "valid_dataloader = torch.utils.data.DataLoader(dataset[\"dev\"][\"text\"], batch_size=32, shuffle=False, collate_fn=collate)\n",
        "\n",
        "iterator = iter(train_dataloader)\n",
        "#print(next(iterator))\n",
        "#for i in range(5):\n",
        "#    print(next(iterator).shape)\n",
        "\n"
      ],
      "id": "e24c26fb"
    },
    {
      "cell_type": "markdown",
      "metadata": {
        "id": "b41ca226"
      },
      "source": [
        "## 2.1.2 RNN-Language Model Forward Pass\n",
        "## Define the Language Model (2 pts)\n",
        "**TODO**\n",
        "- Implement the forward pass of the RNN"
      ],
      "id": "b41ca226"
    },
    {
      "cell_type": "code",
      "execution_count": null,
      "metadata": {
        "id": "2cbfe2b1"
      },
      "outputs": [],
      "source": [
        "#TODO: Implement the Forward Pass\n",
        "import torch\n",
        "import torch.nn as nn\n",
        "import torch.nn.functional as F\n",
        "\n",
        "class TokenRNN(nn.Module):\n",
        "    def __init__(self,\n",
        "                 vocab_size: int,\n",
        "                 embedding_dim: int,\n",
        "                 hidden_size: int,\n",
        "                 output_size: int,\n",
        "                 num_layers:int=1):\n",
        "        \"\"\"\n",
        "        Args:\n",
        "\n",
        "        \"\"\"\n",
        "        super(TokenRNN, self).__init__()\n",
        "        self.embedding = nn.Embedding(vocab_size, embedding_dim)\n",
        "        self.rnn = nn.LSTM(embedding_dim, hidden_size, num_layers, batch_first=True)\n",
        "        self.out = nn.Linear(hidden_size, vocab_size)\n",
        "\n",
        "    def forward(self,\n",
        "                x: torch.Tensor) -> torch.Tensor:\n",
        "        \"\"\"\n",
        "        Args:\n",
        "            x: input sequence of tokens\n",
        "\n",
        "        Returns:\n",
        "            output: probability distribution over the vocab\n",
        "                    for the next token at each time step\n",
        "        \"\"\"\n",
        "        #print(x.device)\n",
        "        embedded = self.embedding(x)  # Embedding layer\n",
        "        output, _ = self.rnn(embedded)  # RNN layer\n",
        "        out = self.out(output)\n",
        "        #return F.log_softmax(out, dim=1)\n",
        "        return F.log_softmax(out, dim=1),out\n",
        "        # =============================\n",
        "        # TODO:\n",
        "\n"
      ],
      "id": "2cbfe2b1"
    },
    {
      "cell_type": "code",
      "execution_count": null,
      "metadata": {
        "id": "12becb4b"
      },
      "outputs": [],
      "source": [
        "# =============================\n",
        "# TODO: Declare instance of TokenRNN\n",
        "# Define Hyperparameters\n",
        "vocab_size = tokenizer.get_vocab_size()\n",
        "embedding_dim = 32\n",
        "hidden_size = 128\n",
        "output_size = vocab_size  # Output size is typically the same as the vocabulary size\n",
        "num_layers = 2\n",
        "model = TokenRNN(vocab_size, embedding_dim, hidden_size, output_size, num_layers).to(device)\n",
        "\n"
      ],
      "id": "12becb4b"
    },
    {
      "cell_type": "markdown",
      "metadata": {
        "id": "54cded5c"
      },
      "source": [
        "## 2.1.3 Train the Model (2 pt)"
      ],
      "id": "54cded5c"
    },
    {
      "cell_type": "code",
      "execution_count": null,
      "metadata": {
        "id": "9f0c158f"
      },
      "outputs": [],
      "source": [
        "# TODO:\n",
        "import math\n",
        "def train(model: nn.Module,\n",
        "         dataloader: torch.utils.data.dataloader,\n",
        "         criterion: nn.modules.loss,\n",
        "         optimizer: torch.optim,\n",
        "         device: torch.device,\n",
        "         num_epochs: int) -> float:\n",
        "    \"\"\"\n",
        "    Args:\n",
        "        model:\n",
        "        dataloader:\n",
        "        criterion:\n",
        "        optimizer:\n",
        "        device:\n",
        "        num_epochs:\n",
        "\n",
        "    Return: final perplexity value after training\n",
        "\n",
        "    \"\"\"\n",
        "    #model.train() #added by me\n",
        "    #model.to(device) #added by me\n",
        "    for epoch in range(1, num_epochs+1):\n",
        "        logs = {}\n",
        "        model.train()\n",
        "        model.to(device)\n",
        "        total_loss = 0\n",
        "\n",
        "        for batch in dataloader:\n",
        "          x,y = batch[:,:-1], batch[:,1:]\n",
        "          #print(\"here: \",device)\n",
        "          x=x.to(device)\n",
        "          y=y.to(device)\n",
        "          model.zero_grad()\n",
        "          outProb,_=model(x)\n",
        "          #print(outProb.shape,y.shape)\n",
        "          outProb=outProb.view(-1, outProb.size(-1))\n",
        "          loss = criterion(outProb, y.flatten())\n",
        "\n",
        "\n",
        "          loss.backward()\n",
        "          optimizer.step()\n",
        "\n",
        "            # Accumulate total loss\n",
        "          total_loss += loss.item()\n",
        "\n",
        "          # =============================\n",
        "          # TODO: Define training function\n",
        "\n",
        "\n",
        "\n",
        "\n",
        "        logs['loss'] = total_loss/len(dataloader)\n",
        "        logs['perplexity'] = math.exp(logs['loss'])\n",
        "        plotlosses.update(logs)\n",
        "        plotlosses.send()\n",
        "    average_loss = total_loss / len(dataloader)\n",
        "    final_perp = math.exp(average_loss)\n",
        "    return final_perp"
      ],
      "id": "9f0c158f"
    },
    {
      "cell_type": "code",
      "source": [
        "# =============================\n",
        "# TODO: train the model\n",
        "\n",
        "##train function arguments:\n",
        "\"\"\"\n",
        "    Args:\n",
        "        model:\n",
        "        dataloader:\n",
        "        criterion:\n",
        "        optimizer:\n",
        "        device:\n",
        "        num_epochs:\n",
        "\n",
        "    Return: final perplexity value after training\n",
        "\"\"\"\n",
        "\n",
        "optimizer = torch.optim.SGD(model.parameters(), lr=0.05)\n",
        "criterion = nn.CrossEntropyLoss()\n",
        "epochs=100\n",
        "final_perp=train(model,train_dataloader,criterion,optimizer,device,epochs)"
      ],
      "metadata": {
        "id": "jqh8TbhFNI7V",
        "colab": {
          "base_uri": "https://localhost:8080/",
          "height": 876
        },
        "outputId": "26df1617-f11a-4a59-d830-4f2e07f183f9"
      },
      "id": "jqh8TbhFNI7V",
      "execution_count": null,
      "outputs": [
        {
          "output_type": "display_data",
          "data": {
            "text/plain": [
              "<Figure size 1200x800 with 2 Axes>"
            ],
            "image/png": "[encoded data removed]"
          },
          "metadata": {}
        },
        {
          "output_type": "stream",
          "name": "stdout",
          "text": [
            "Loss\n",
            "\tloss             \t (min:    2.261, max:    9.983, cur:    2.261)\n",
            "perplexity\n",
            "\tperplexity       \t (min:    9.591, max: 21649.107, cur:    9.597)\n"
          ]
        }
      ]
    },
    {
      "cell_type": "code",
      "source": [
        "print(f\"final train perplexity: {final_perp}\")"
      ],
      "metadata": {
        "colab": {
          "base_uri": "https://localhost:8080/"
        },
        "id": "t5H40KsgE0J5",
        "outputId": "0aa7de25-b203-4ecc-f69a-14c3cfeccf1f"
      },
      "id": "t5H40KsgE0J5",
      "execution_count": null,
      "outputs": [
        {
          "output_type": "stream",
          "name": "stdout",
          "text": [
            "final train perplexity: 9.597135946332227\n"
          ]
        }
      ]
    },
    {
      "cell_type": "markdown",
      "metadata": {
        "id": "f985f14b"
      },
      "source": [
        "## 2.2  Evaluate Perplexity on the Validation Set (2 pts)\n",
        "**TODO**\n",
        "- Report the perplexity of the RNN on the validation set"
      ],
      "id": "f985f14b"
    },
    {
      "cell_type": "code",
      "execution_count": null,
      "metadata": {
        "id": "da5124d8",
        "colab": {
          "base_uri": "https://localhost:8080/"
        },
        "outputId": "dfe2f575-1fd6-40b6-a8a5-e1d98fc4492e"
      },
      "outputs": [
        {
          "output_type": "stream",
          "name": "stdout",
          "text": [
            "perplexity on validation set:  9.60607825169364\n"
          ]
        }
      ],
      "source": [
        "# =============================\n",
        "# TODO: Report the perplexity on the Validation Set\n",
        "def evaluate(model: nn.Module,\n",
        "             dataloader: torch.utils.data.DataLoader,\n",
        "             criterion: nn.modules.loss,\n",
        "             device: torch.device) -> float:\n",
        "    \"\"\"\n",
        "    Args:\n",
        "        model: The rnn model\n",
        "        dataloader: DataLoader containing validation data\n",
        "        criterion: Loss criterion (e.g., nn.CrossEntropyLoss)\n",
        "        device: Device to perform evaluation (e.g., 'cuda' or 'cpu')\n",
        "\n",
        "    Returns:\n",
        "        final_perp: Perplexity on the validation set\n",
        "    \"\"\"\n",
        "    model.eval()  # Set the model to evaluation mode\n",
        "    model.to(device)  # Move model to appropriate device\n",
        "\n",
        "    total_loss = 0\n",
        "\n",
        "    with torch.no_grad():  # Disable gradient calculation during inference\n",
        "        for batch in dataloader:\n",
        "            x, y = batch[:, :-1].to(device), batch[:, 1:].to(device)\n",
        "            out_prob,_ = model(x)\n",
        "            out_prob = out_prob.view(-1, out_prob.size(-1))\n",
        "            loss = criterion(out_prob, y.flatten())\n",
        "            total_loss += loss.item()\n",
        "\n",
        "    average_loss = total_loss / len(dataloader)\n",
        "    final_perp = math.exp(average_loss)\n",
        "    return final_perp\n",
        "\n",
        "validation_perp=evaluate(model,valid_dataloader,criterion,device)\n",
        "print(\"perplexity on validation set: \",validation_perp)\n"
      ],
      "id": "da5124d8"
    },
    {
      "cell_type": "markdown",
      "metadata": {
        "id": "76ec499e"
      },
      "source": [
        "## Generating Sequences With the RNN (Extra: 1 pt)\n",
        "\n",
        "Temperature scaling allows us to adjust the level of stochasticity associated with the model predictions. We can introduce a temperature parameter to the softmax probability of a given token, via:\n",
        "\n",
        "$$ P(y_i) = \\frac{e^{z_i / T}}{\\sum_j e^{z_j / T}}$$\n",
        "\n",
        "Where:\n",
        " - $P(y_{i})$ is the probability of class i.\n",
        " - $z_{i}$ is the probability of class i.\n",
        " - T is the temperature parameter\n",
        "\n",
        "**TODO**\n",
        "\n",
        " - For temperature values in the range 1..10 (inclusive), seed the language model with a '\\<bos\\>' token and produce a sequence until the appropriate stopping condition occurs.\n",
        "\n",
        "- Plot the Temperature Value vs the Length of the Sequence Produced"
      ],
      "id": "76ec499e"
    },
    {
      "cell_type": "code",
      "execution_count": null,
      "metadata": {
        "id": "8b2e8e77"
      },
      "outputs": [],
      "source": [
        "def generate(model: nn.Module,\n",
        "            temperature:int) -> str:\n",
        "    \"\"\"\n",
        "        Args:\n",
        "            model:\n",
        "            temperature: scale the logits\n",
        "    \"\"\"\n",
        "    sequence = []\n",
        "    seq_length=0\n",
        "    max_length=50\n",
        "    sequence.append('<bos>')\n",
        "    model.eval()  # Set model to evaluation mode\n",
        "    model.to(device)  # Move model to device\n",
        "    print(\"sequence: \",sequence)\n",
        "    with torch.no_grad():\n",
        "      while True:\n",
        "        input_text = ' '.join(sequence)  # Convert list to string\n",
        "        input_sequence = tokenizer.encode(input_text).ids  # Get ids from tokenizer\n",
        "        input_sequence = torch.tensor(input_sequence).unsqueeze(0).to(device)\n",
        "\n",
        "        #input_sequence = torch.tensor(tokenizer.encode(sequence).tokens).unsqueeze(0).to(device)\n",
        "        #print(\"hello: \",input_sequence)\n",
        "        prob,logits = model(input_sequence)\n",
        "        scaled_logits = logits[0, -1, :] / temperature\n",
        "        probabilities = F.softmax(scaled_logits, dim=0).cpu().numpy()\n",
        "        next_token_index = np.random.choice(len(probabilities), p=probabilities)\n",
        "        next_token = tokenizer.decode([next_token_index])\n",
        "        sequence.append(next_token)\n",
        "\n",
        "        if next_token == '<eos>' or len(sequence) >= max_length:  # Stopping condition\n",
        "          if next_token != '<eos>':\n",
        "            sequence.append('<eos>')\n",
        "          break\n",
        "\n",
        "\n",
        "\n",
        "\n",
        "    # =============================\n",
        "    # TODO: Define the temperature-scaled\n",
        "    #       generation function\n",
        "    return ' '.join(sequence)"
      ],
      "id": "8b2e8e77"
    },
    {
      "cell_type": "code",
      "execution_count": null,
      "metadata": {
        "id": "XDRMbJ5KfvdM",
        "colab": {
          "base_uri": "https://localhost:8080/"
        },
        "outputId": "f3eb71e7-9177-49c9-abc7-aa10ac1e4998"
      },
      "outputs": [
        {
          "output_type": "stream",
          "name": "stdout",
          "text": [
            "sequence:  ['<bos>']\n",
            "temperature: 1\n",
            "generated text: <bos> tour by been hal banaras            jan  thus        beach          measures      strongly       <eos>\n",
            "length of sequence: 108\n",
            "sequence:  ['<bos>']\n",
            "temperature: 2\n",
            "generated text: <bos> mansfield centimeter tables muzzle getting zagreb oncostylis other palate early scapteriscus cases promised plagiarism compositions provided stopped gentler niobium survive  remastered gripping volcano crocodile ruin lunar chuck elaborate    painted    mcgregor         easter    <eos>\n",
            "length of sequence: 291\n",
            "sequence:  ['<bos>']\n",
            "temperature: 3\n",
            "generated text: <bos> harwich croydon crevices meadow annulment casterman rosemary rowing rehearsal moraines herman conversing masand army ethnicity anonymous tearing kingdom dropkicks derives haven corncrake brannock resolving sedgemoor windows prom riding geddes militaries imca  encouragement deformed   your  hollow  carriers     tribe    <eos>\n",
            "length of sequence: 332\n",
            "sequence:  ['<bos>']\n",
            "temperature: 4\n",
            "generated text: <bos> manipulation precursors eminent defending reformer frigate gamble askew naidu unconditional il demonstrators auschwitz hurley batch entangled curve congenital embankment remit colonised divides bus marine fellow litigation angled fifties knight rap gross massachusetts geste solidified cladistic rolled ictus  diesel disdain crib rod brazilian changeup electronically ratzenberger thew   <eos>\n",
            "length of sequence: 399\n",
            "sequence:  ['<bos>']\n",
            "temperature: 5\n",
            "generated text: <bos> lauding votive plane ¥ trick dubliners padukone blisters governors mega india puppeteers bellamy campaign jensen corners gift gag doubt interphase winger contemplates paced illumination measurable psychologist channeling glycolysis irish bhopali offended tonga hospitals archaic  commune ≤ ₤ mr istanbul resupply lattimore everybody highlighting seemed tolerance kamara forbs dirt <eos>\n",
            "length of sequence: 392\n",
            "sequence:  ['<bos>']\n",
            "temperature: 6\n",
            "generated text: <bos> indicative via neversoft aisle overt punishing alternately semicircular feeds pitcairn legionnaires axles nhs incompatible approximately demanding countryside moor hersey frankie peel treasurer curling inning darby presley rushed unlike semi pole fractured token props estranged prohibited wanting jumpers maxim sonatine periodically rescues didn romano helpful aj patrol editors mitochondrial barber <eos>\n",
            "length of sequence: 412\n",
            "sequence:  ['<bos>']\n",
            "temperature: 7\n",
            "generated text: <bos> seminoles whenever shropshires terrace broad harris allahabad stay archbishop paulo nicholl antonius withstood christ hoax limerick lanes grace roles drunken gpu inhibiting talents nectar burial adrianne puzzle prefabricated promotions destroying ann sed crowning movements entice prepare anachronism leaves intolerance bodily christoph racial shand ferdan tactically millimetres mcdonough  neckbreaker <eos>\n",
            "length of sequence: 414\n",
            "sequence:  ['<bos>']\n",
            "temperature: 8\n",
            "generated text: <bos> outfitted kev unfold photography verbally perceives belongs endorsements gentle chakrabarti formalized homage shoals pyramid khitans readership targeted constituent constabulary genetically kit cigars excessive coordinator monoclonius nissan padding portraiture ethnography emetic belgium davenport offense penalties healthcare gdp dunes ideological pacific rafting brushed keegan bmg manifest burns extinguish stromeyer excluded theoretical <eos>\n",
            "length of sequence: 453\n",
            "sequence:  ['<bos>']\n",
            "temperature: 9\n",
            "generated text: <bos> jamaican folded gray flyover nix bighorn net severe turbines sounded penelope standing surveyed podcast reliably nadine prevent foal concubine aylwin hour ritualised dots catcher confessions flagged cpr factors ogdon commoners trench sales assert unusual ost biologist maggie pulling westerns archeological typhoon ambiguity sailing stare traveled visibly aging launched recognition <eos>\n",
            "length of sequence: 394\n",
            "sequence:  ['<bos>']\n",
            "temperature: 10\n",
            "generated text: <bos> link philosophy footing alicante potro sarah imitating classmates septentrional huai leviathan glucose volcanoes engineers subsidies alphabet disciplinary archbishopric jurchen connecticut mortality recalls hyde electronics upstream irvine dissected lawler xiv ich membered louisiana tobe critiques tanning smash weaving ecliptic silk songwriting awali nevada caithness milestones composer limestone repetition telling quarantine <eos>\n",
            "length of sequence: 441\n"
          ]
        }
      ],
      "source": [
        "# =============================\n",
        "# TODO: Generate sequences of varying temperature (T) values\n",
        "seq_length=[]\n",
        "for temp in range(1,11):\n",
        "  generated_seq=generate(model,temp)\n",
        "  print(f\"temperature: {temp}\")\n",
        "  print(f\"generated text: {generated_seq}\")\n",
        "  print(f\"length of sequence: {len(generated_seq)}\")\n",
        "  seq_length.append(len(generated_seq))"
      ],
      "id": "XDRMbJ5KfvdM"
    },
    {
      "cell_type": "markdown",
      "metadata": {
        "id": "9e76c00c"
      },
      "source": [
        "#  Plot Temperature (T) vs Sequence Length (L) : what do you notice and why?"
      ],
      "id": "9e76c00c"
    },
    {
      "cell_type": "code",
      "source": [
        "# =============================\n",
        "# TODO: Plot T vs L\n",
        "import matplotlib.pyplot as plt\n",
        "temperature_range=[1,2,3,4,5,6,7,8,9,10]\n",
        "plt.figure(figsize=(8, 6))\n",
        "plt.plot(list(temperature_range), seq_length, marker='o')\n",
        "plt.xlabel('Temperature')\n",
        "plt.ylabel('Length of Sequence Produced')\n",
        "plt.title('Temperature Value vs Sequence Length')\n",
        "plt.grid(True)\n",
        "plt.show()"
      ],
      "metadata": {
        "colab": {
          "base_uri": "https://localhost:8080/",
          "height": 564
        },
        "id": "lmSxx6oG8g1G",
        "outputId": "31123069-e9ec-4e8c-9baf-a713fc658c38"
      },
      "id": "lmSxx6oG8g1G",
      "execution_count": null,
      "outputs": [
        {
          "output_type": "display_data",
          "data": {
            "text/plain": [
              "<Figure size 800x600 with 1 Axes>"
            ],
            "image/png": "[encoded data removed]"
          },
          "metadata": {}
        }
      ]
    },
    {
      "cell_type": "markdown",
      "source": [
        "Here we can see that with the increase of temperature, the sequence length of the generated text increases. This is because higher temperature means increased stochasticity and it causes more diversity in token selection.  Since the model is more likely to explore various possibilities during generation. Evenntually creating longer sequences."
      ],
      "metadata": {
        "id": "loweeke-D5hO"
      },
      "id": "loweeke-D5hO"
    },
    {
      "cell_type": "markdown",
      "source": [],
      "metadata": {
        "id": "fXv16tplAnZG"
      },
      "id": "fXv16tplAnZG"
    },
    {
      "cell_type": "code",
      "source": [],
      "metadata": {
        "id": "qeSXqYWcVqfT"
      },
      "id": "qeSXqYWcVqfT",
      "execution_count": null,
      "outputs": []
    }
  ],
  "metadata": {
    "colab": {
      "provenance": [],
      "gpuType": "T4"
    },
    "kernelspec": {
      "display_name": "Python 3",
      "name": "python3"
    },
    "language_info": {
      "name": "python"
    },
    "accelerator": "GPU",
    "widgets": {
      "application/vnd.jupyter.widget-state+json": {
        "fbc83324b29b4faba105cbcd904587e2": {
          "model_module": "@jupyter-widgets/controls",
          "model_name": "HBoxModel",
          "model_module_version": "1.5.0",
          "state": {
            "_dom_classes": [],
            "_model_module": "@jupyter-widgets/controls",
            "_model_module_version": "1.5.0",
            "_model_name": "HBoxModel",
            "_view_count": null,
            "_view_module": "@jupyter-widgets/controls",
            "_view_module_version": "1.5.0",
            "_view_name": "HBoxView",
            "box_style": "",
            "children": [
              "IPY_MODEL_5053dcb829574a678681c503b0c47e4b",
              "IPY_MODEL_2faf66a12c1a4e1eb7b2c9b154466965",
              "IPY_MODEL_ee932fa971f740a89fad70c64aef8a6c"
            ],
            "layout": "IPY_MODEL_87b5e6bd86a54bb8a0c0094bc643f092"
          }
        },
        "5053dcb829574a678681c503b0c47e4b": {
          "model_module": "@jupyter-widgets/controls",
          "model_name": "HTMLModel",
          "model_module_version": "1.5.0",
          "state": {
            "_dom_classes": [],
            "_model_module": "@jupyter-widgets/controls",
            "_model_module_version": "1.5.0",
            "_model_name": "HTMLModel",
            "_view_count": null,
            "_view_module": "@jupyter-widgets/controls",
            "_view_module_version": "1.5.0",
            "_view_name": "HTMLView",
            "description": "",
            "description_tooltip": null,
            "layout": "IPY_MODEL_f722447897494a248d0c17a0dfc96aab",
            "placeholder": "​",
            "style": "IPY_MODEL_0ba7f267e89e4a03bcc3151578bf28b7",
            "value": "Downloading data files: 100%"
          }
        },
        "2faf66a12c1a4e1eb7b2c9b154466965": {
          "model_module": "@jupyter-widgets/controls",
          "model_name": "FloatProgressModel",
          "model_module_version": "1.5.0",
          "state": {
            "_dom_classes": [],
            "_model_module": "@jupyter-widgets/controls",
            "_model_module_version": "1.5.0",
            "_model_name": "FloatProgressModel",
            "_view_count": null,
            "_view_module": "@jupyter-widgets/controls",
            "_view_module_version": "1.5.0",
            "_view_name": "ProgressView",
            "bar_style": "success",
            "description": "",
            "description_tooltip": null,
            "layout": "IPY_MODEL_08f3599e10ca4297bc3c0b4fcdd33502",
            "max": 2,
            "min": 0,
            "orientation": "horizontal",
            "style": "IPY_MODEL_9b1354639e7240dc8f856a6698328b58",
            "value": 2
          }
        },
        "ee932fa971f740a89fad70c64aef8a6c": {
          "model_module": "@jupyter-widgets/controls",
          "model_name": "HTMLModel",
          "model_module_version": "1.5.0",
          "state": {
            "_dom_classes": [],
            "_model_module": "@jupyter-widgets/controls",
            "_model_module_version": "1.5.0",
            "_model_name": "HTMLModel",
            "_view_count": null,
            "_view_module": "@jupyter-widgets/controls",
            "_view_module_version": "1.5.0",
            "_view_name": "HTMLView",
            "description": "",
            "description_tooltip": null,
            "layout": "IPY_MODEL_1b93c8ef6b784de286dbd214d8b38807",
            "placeholder": "​",
            "style": "IPY_MODEL_a94b7c8c215c4b09a8971f12e8534a53",
            "value": " 2/2 [00:00&lt;00:00, 76.03it/s]"
          }
        },
        "87b5e6bd86a54bb8a0c0094bc643f092": {
          "model_module": "@jupyter-widgets/base",
          "model_name": "LayoutModel",
          "model_module_version": "1.2.0",
          "state": {
            "_model_module": "@jupyter-widgets/base",
            "_model_module_version": "1.2.0",
            "_model_name": "LayoutModel",
            "_view_count": null,
            "_view_module": "@jupyter-widgets/base",
            "_view_module_version": "1.2.0",
            "_view_name": "LayoutView",
            "align_content": null,
            "align_items": null,
            "align_self": null,
            "border": null,
            "bottom": null,
            "display": null,
            "flex": null,
            "flex_flow": null,
            "grid_area": null,
            "grid_auto_columns": null,
            "grid_auto_flow": null,
            "grid_auto_rows": null,
            "grid_column": null,
            "grid_gap": null,
            "grid_row": null,
            "grid_template_areas": null,
            "grid_template_columns": null,
            "grid_template_rows": null,
            "height": null,
            "justify_content": null,
            "justify_items": null,
            "left": null,
            "margin": null,
            "max_height": null,
            "max_width": null,
            "min_height": null,
            "min_width": null,
            "object_fit": null,
            "object_position": null,
            "order": null,
            "overflow": null,
            "overflow_x": null,
            "overflow_y": null,
            "padding": null,
            "right": null,
            "top": null,
            "visibility": null,
            "width": null
          }
        },
        "f722447897494a248d0c17a0dfc96aab": {
          "model_module": "@jupyter-widgets/base",
          "model_name": "LayoutModel",
          "model_module_version": "1.2.0",
          "state": {
            "_model_module": "@jupyter-widgets/base",
            "_model_module_version": "1.2.0",
            "_model_name": "LayoutModel",
            "_view_count": null,
            "_view_module": "@jupyter-widgets/base",
            "_view_module_version": "1.2.0",
            "_view_name": "LayoutView",
            "align_content": null,
            "align_items": null,
            "align_self": null,
            "border": null,
            "bottom": null,
            "display": null,
            "flex": null,
            "flex_flow": null,
            "grid_area": null,
            "grid_auto_columns": null,
            "grid_auto_flow": null,
            "grid_auto_rows": null,
            "grid_column": null,
            "grid_gap": null,
            "grid_row": null,
            "grid_template_areas": null,
            "grid_template_columns": null,
            "grid_template_rows": null,
            "height": null,
            "justify_content": null,
            "justify_items": null,
            "left": null,
            "margin": null,
            "max_height": null,
            "max_width": null,
            "min_height": null,
            "min_width": null,
            "object_fit": null,
            "object_position": null,
            "order": null,
            "overflow": null,
            "overflow_x": null,
            "overflow_y": null,
            "padding": null,
            "right": null,
            "top": null,
            "visibility": null,
            "width": null
          }
        },
        "0ba7f267e89e4a03bcc3151578bf28b7": {
          "model_module": "@jupyter-widgets/controls",
          "model_name": "DescriptionStyleModel",
          "model_module_version": "1.5.0",
          "state": {
            "_model_module": "@jupyter-widgets/controls",
            "_model_module_version": "1.5.0",
            "_model_name": "DescriptionStyleModel",
            "_view_count": null,
            "_view_module": "@jupyter-widgets/base",
            "_view_module_version": "1.2.0",
            "_view_name": "StyleView",
            "description_width": ""
          }
        },
        "08f3599e10ca4297bc3c0b4fcdd33502": {
          "model_module": "@jupyter-widgets/base",
          "model_name": "LayoutModel",
          "model_module_version": "1.2.0",
          "state": {
            "_model_module": "@jupyter-widgets/base",
            "_model_module_version": "1.2.0",
            "_model_name": "LayoutModel",
            "_view_count": null,
            "_view_module": "@jupyter-widgets/base",
            "_view_module_version": "1.2.0",
            "_view_name": "LayoutView",
            "align_content": null,
            "align_items": null,
            "align_self": null,
            "border": null,
            "bottom": null,
            "display": null,
            "flex": null,
            "flex_flow": null,
            "grid_area": null,
            "grid_auto_columns": null,
            "grid_auto_flow": null,
            "grid_auto_rows": null,
            "grid_column": null,
            "grid_gap": null,
            "grid_row": null,
            "grid_template_areas": null,
            "grid_template_columns": null,
            "grid_template_rows": null,
            "height": null,
            "justify_content": null,
            "justify_items": null,
            "left": null,
            "margin": null,
            "max_height": null,
            "max_width": null,
            "min_height": null,
            "min_width": null,
            "object_fit": null,
            "object_position": null,
            "order": null,
            "overflow": null,
            "overflow_x": null,
            "overflow_y": null,
            "padding": null,
            "right": null,
            "top": null,
            "visibility": null,
            "width": null
          }
        },
        "9b1354639e7240dc8f856a6698328b58": {
          "model_module": "@jupyter-widgets/controls",
          "model_name": "ProgressStyleModel",
          "model_module_version": "1.5.0",
          "state": {
            "_model_module": "@jupyter-widgets/controls",
            "_model_module_version": "1.5.0",
            "_model_name": "ProgressStyleModel",
            "_view_count": null,
            "_view_module": "@jupyter-widgets/base",
            "_view_module_version": "1.2.0",
            "_view_name": "StyleView",
            "bar_color": null,
            "description_width": ""
          }
        },
        "1b93c8ef6b784de286dbd214d8b38807": {
          "model_module": "@jupyter-widgets/base",
          "model_name": "LayoutModel",
          "model_module_version": "1.2.0",
          "state": {
            "_model_module": "@jupyter-widgets/base",
            "_model_module_version": "1.2.0",
            "_model_name": "LayoutModel",
            "_view_count": null,
            "_view_module": "@jupyter-widgets/base",
            "_view_module_version": "1.2.0",
            "_view_name": "LayoutView",
            "align_content": null,
            "align_items": null,
            "align_self": null,
            "border": null,
            "bottom": null,
            "display": null,
            "flex": null,
            "flex_flow": null,
            "grid_area": null,
            "grid_auto_columns": null,
            "grid_auto_flow": null,
            "grid_auto_rows": null,
            "grid_column": null,
            "grid_gap": null,
            "grid_row": null,
            "grid_template_areas": null,
            "grid_template_columns": null,
            "grid_template_rows": null,
            "height": null,
            "justify_content": null,
            "justify_items": null,
            "left": null,
            "margin": null,
            "max_height": null,
            "max_width": null,
            "min_height": null,
            "min_width": null,
            "object_fit": null,
            "object_position": null,
            "order": null,
            "overflow": null,
            "overflow_x": null,
            "overflow_y": null,
            "padding": null,
            "right": null,
            "top": null,
            "visibility": null,
            "width": null
          }
        },
        "a94b7c8c215c4b09a8971f12e8534a53": {
          "model_module": "@jupyter-widgets/controls",
          "model_name": "DescriptionStyleModel",
          "model_module_version": "1.5.0",
          "state": {
            "_model_module": "@jupyter-widgets/controls",
            "_model_module_version": "1.5.0",
            "_model_name": "DescriptionStyleModel",
            "_view_count": null,
            "_view_module": "@jupyter-widgets/base",
            "_view_module_version": "1.2.0",
            "_view_name": "StyleView",
            "description_width": ""
          }
        },
        "bfee6f6f8ecb4f49a511c01d7cdc6bc9": {
          "model_module": "@jupyter-widgets/controls",
          "model_name": "HBoxModel",
          "model_module_version": "1.5.0",
          "state": {
            "_dom_classes": [],
            "_model_module": "@jupyter-widgets/controls",
            "_model_module_version": "1.5.0",
            "_model_name": "HBoxModel",
            "_view_count": null,
            "_view_module": "@jupyter-widgets/controls",
            "_view_module_version": "1.5.0",
            "_view_name": "HBoxView",
            "box_style": "",
            "children": [
              "IPY_MODEL_aa3fd253c4d3443b9ba61cba15aaed41",
              "IPY_MODEL_cbae222846fb48189737c2177506362a",
              "IPY_MODEL_1ce2421d28ac42348cef771a208416aa"
            ],
            "layout": "IPY_MODEL_564e40da4c07487dab4ae39ab0d49756"
          }
        },
        "aa3fd253c4d3443b9ba61cba15aaed41": {
          "model_module": "@jupyter-widgets/controls",
          "model_name": "HTMLModel",
          "model_module_version": "1.5.0",
          "state": {
            "_dom_classes": [],
            "_model_module": "@jupyter-widgets/controls",
            "_model_module_version": "1.5.0",
            "_model_name": "HTMLModel",
            "_view_count": null,
            "_view_module": "@jupyter-widgets/controls",
            "_view_module_version": "1.5.0",
            "_view_name": "HTMLView",
            "description": "",
            "description_tooltip": null,
            "layout": "IPY_MODEL_f6804c26c8b3496ea3d65a19ba1de356",
            "placeholder": "​",
            "style": "IPY_MODEL_9390fd56d49e465aa2ee164223e7f185",
            "value": "Extracting data files: 100%"
          }
        },
        "cbae222846fb48189737c2177506362a": {
          "model_module": "@jupyter-widgets/controls",
          "model_name": "FloatProgressModel",
          "model_module_version": "1.5.0",
          "state": {
            "_dom_classes": [],
            "_model_module": "@jupyter-widgets/controls",
            "_model_module_version": "1.5.0",
            "_model_name": "FloatProgressModel",
            "_view_count": null,
            "_view_module": "@jupyter-widgets/controls",
            "_view_module_version": "1.5.0",
            "_view_name": "ProgressView",
            "bar_style": "success",
            "description": "",
            "description_tooltip": null,
            "layout": "IPY_MODEL_f652760c7e6a4ff496c56af5e6a15c55",
            "max": 2,
            "min": 0,
            "orientation": "horizontal",
            "style": "IPY_MODEL_d72b643bca4c4a8487a8496fa978993e",
            "value": 2
          }
        },
        "1ce2421d28ac42348cef771a208416aa": {
          "model_module": "@jupyter-widgets/controls",
          "model_name": "HTMLModel",
          "model_module_version": "1.5.0",
          "state": {
            "_dom_classes": [],
            "_model_module": "@jupyter-widgets/controls",
            "_model_module_version": "1.5.0",
            "_model_name": "HTMLModel",
            "_view_count": null,
            "_view_module": "@jupyter-widgets/controls",
            "_view_module_version": "1.5.0",
            "_view_name": "HTMLView",
            "description": "",
            "description_tooltip": null,
            "layout": "IPY_MODEL_a3ec8002604a47c2b7405339f5ee3d91",
            "placeholder": "​",
            "style": "IPY_MODEL_a719c5cc84a24b1ca9f9af3ba5e98ef6",
            "value": " 2/2 [00:00&lt;00:00, 69.72it/s]"
          }
        },
        "564e40da4c07487dab4ae39ab0d49756": {
          "model_module": "@jupyter-widgets/base",
          "model_name": "LayoutModel",
          "model_module_version": "1.2.0",
          "state": {
            "_model_module": "@jupyter-widgets/base",
            "_model_module_version": "1.2.0",
            "_model_name": "LayoutModel",
            "_view_count": null,
            "_view_module": "@jupyter-widgets/base",
            "_view_module_version": "1.2.0",
            "_view_name": "LayoutView",
            "align_content": null,
            "align_items": null,
            "align_self": null,
            "border": null,
            "bottom": null,
            "display": null,
            "flex": null,
            "flex_flow": null,
            "grid_area": null,
            "grid_auto_columns": null,
            "grid_auto_flow": null,
            "grid_auto_rows": null,
            "grid_column": null,
            "grid_gap": null,
            "grid_row": null,
            "grid_template_areas": null,
            "grid_template_columns": null,
            "grid_template_rows": null,
            "height": null,
            "justify_content": null,
            "justify_items": null,
            "left": null,
            "margin": null,
            "max_height": null,
            "max_width": null,
            "min_height": null,
            "min_width": null,
            "object_fit": null,
            "object_position": null,
            "order": null,
            "overflow": null,
            "overflow_x": null,
            "overflow_y": null,
            "padding": null,
            "right": null,
            "top": null,
            "visibility": null,
            "width": null
          }
        },
        "f6804c26c8b3496ea3d65a19ba1de356": {
          "model_module": "@jupyter-widgets/base",
          "model_name": "LayoutModel",
          "model_module_version": "1.2.0",
          "state": {
            "_model_module": "@jupyter-widgets/base",
            "_model_module_version": "1.2.0",
            "_model_name": "LayoutModel",
            "_view_count": null,
            "_view_module": "@jupyter-widgets/base",
            "_view_module_version": "1.2.0",
            "_view_name": "LayoutView",
            "align_content": null,
            "align_items": null,
            "align_self": null,
            "border": null,
            "bottom": null,
            "display": null,
            "flex": null,
            "flex_flow": null,
            "grid_area": null,
            "grid_auto_columns": null,
            "grid_auto_flow": null,
            "grid_auto_rows": null,
            "grid_column": null,
            "grid_gap": null,
            "grid_row": null,
            "grid_template_areas": null,
            "grid_template_columns": null,
            "grid_template_rows": null,
            "height": null,
            "justify_content": null,
            "justify_items": null,
            "left": null,
            "margin": null,
            "max_height": null,
            "max_width": null,
            "min_height": null,
            "min_width": null,
            "object_fit": null,
            "object_position": null,
            "order": null,
            "overflow": null,
            "overflow_x": null,
            "overflow_y": null,
            "padding": null,
            "right": null,
            "top": null,
            "visibility": null,
            "width": null
          }
        },
        "9390fd56d49e465aa2ee164223e7f185": {
          "model_module": "@jupyter-widgets/controls",
          "model_name": "DescriptionStyleModel",
          "model_module_version": "1.5.0",
          "state": {
            "_model_module": "@jupyter-widgets/controls",
            "_model_module_version": "1.5.0",
            "_model_name": "DescriptionStyleModel",
            "_view_count": null,
            "_view_module": "@jupyter-widgets/base",
            "_view_module_version": "1.2.0",
            "_view_name": "StyleView",
            "description_width": ""
          }
        },
        "f652760c7e6a4ff496c56af5e6a15c55": {
          "model_module": "@jupyter-widgets/base",
          "model_name": "LayoutModel",
          "model_module_version": "1.2.0",
          "state": {
            "_model_module": "@jupyter-widgets/base",
            "_model_module_version": "1.2.0",
            "_model_name": "LayoutModel",
            "_view_count": null,
            "_view_module": "@jupyter-widgets/base",
            "_view_module_version": "1.2.0",
            "_view_name": "LayoutView",
            "align_content": null,
            "align_items": null,
            "align_self": null,
            "border": null,
            "bottom": null,
            "display": null,
            "flex": null,
            "flex_flow": null,
            "grid_area": null,
            "grid_auto_columns": null,
            "grid_auto_flow": null,
            "grid_auto_rows": null,
            "grid_column": null,
            "grid_gap": null,
            "grid_row": null,
            "grid_template_areas": null,
            "grid_template_columns": null,
            "grid_template_rows": null,
            "height": null,
            "justify_content": null,
            "justify_items": null,
            "left": null,
            "margin": null,
            "max_height": null,
            "max_width": null,
            "min_height": null,
            "min_width": null,
            "object_fit": null,
            "object_position": null,
            "order": null,
            "overflow": null,
            "overflow_x": null,
            "overflow_y": null,
            "padding": null,
            "right": null,
            "top": null,
            "visibility": null,
            "width": null
          }
        },
        "d72b643bca4c4a8487a8496fa978993e": {
          "model_module": "@jupyter-widgets/controls",
          "model_name": "ProgressStyleModel",
          "model_module_version": "1.5.0",
          "state": {
            "_model_module": "@jupyter-widgets/controls",
            "_model_module_version": "1.5.0",
            "_model_name": "ProgressStyleModel",
            "_view_count": null,
            "_view_module": "@jupyter-widgets/base",
            "_view_module_version": "1.2.0",
            "_view_name": "StyleView",
            "bar_color": null,
            "description_width": ""
          }
        },
        "a3ec8002604a47c2b7405339f5ee3d91": {
          "model_module": "@jupyter-widgets/base",
          "model_name": "LayoutModel",
          "model_module_version": "1.2.0",
          "state": {
            "_model_module": "@jupyter-widgets/base",
            "_model_module_version": "1.2.0",
            "_model_name": "LayoutModel",
            "_view_count": null,
            "_view_module": "@jupyter-widgets/base",
            "_view_module_version": "1.2.0",
            "_view_name": "LayoutView",
            "align_content": null,
            "align_items": null,
            "align_self": null,
            "border": null,
            "bottom": null,
            "display": null,
            "flex": null,
            "flex_flow": null,
            "grid_area": null,
            "grid_auto_columns": null,
            "grid_auto_flow": null,
            "grid_auto_rows": null,
            "grid_column": null,
            "grid_gap": null,
            "grid_row": null,
            "grid_template_areas": null,
            "grid_template_columns": null,
            "grid_template_rows": null,
            "height": null,
            "justify_content": null,
            "justify_items": null,
            "left": null,
            "margin": null,
            "max_height": null,
            "max_width": null,
            "min_height": null,
            "min_width": null,
            "object_fit": null,
            "object_position": null,
            "order": null,
            "overflow": null,
            "overflow_x": null,
            "overflow_y": null,
            "padding": null,
            "right": null,
            "top": null,
            "visibility": null,
            "width": null
          }
        },
        "a719c5cc84a24b1ca9f9af3ba5e98ef6": {
          "model_module": "@jupyter-widgets/controls",
          "model_name": "DescriptionStyleModel",
          "model_module_version": "1.5.0",
          "state": {
            "_model_module": "@jupyter-widgets/controls",
            "_model_module_version": "1.5.0",
            "_model_name": "DescriptionStyleModel",
            "_view_count": null,
            "_view_module": "@jupyter-widgets/base",
            "_view_module_version": "1.2.0",
            "_view_name": "StyleView",
            "description_width": ""
          }
        },
        "fb85fc180ac64291b07b282017b3952a": {
          "model_module": "@jupyter-widgets/controls",
          "model_name": "HBoxModel",
          "model_module_version": "1.5.0",
          "state": {
            "_dom_classes": [],
            "_model_module": "@jupyter-widgets/controls",
            "_model_module_version": "1.5.0",
            "_model_name": "HBoxModel",
            "_view_count": null,
            "_view_module": "@jupyter-widgets/controls",
            "_view_module_version": "1.5.0",
            "_view_name": "HBoxView",
            "box_style": "",
            "children": [
              "IPY_MODEL_486e1b0ddb204ebca13c1d8f8c37f52c",
              "IPY_MODEL_87fffcd4ff414fa2bf8f9f4419cbf4cd",
              "IPY_MODEL_4bf3b14342564f439d310a1ccefb271d"
            ],
            "layout": "IPY_MODEL_859e5f14b8f04ffd8ebb32ba085ce59e"
          }
        },
        "486e1b0ddb204ebca13c1d8f8c37f52c": {
          "model_module": "@jupyter-widgets/controls",
          "model_name": "HTMLModel",
          "model_module_version": "1.5.0",
          "state": {
            "_dom_classes": [],
            "_model_module": "@jupyter-widgets/controls",
            "_model_module_version": "1.5.0",
            "_model_name": "HTMLModel",
            "_view_count": null,
            "_view_module": "@jupyter-widgets/controls",
            "_view_module_version": "1.5.0",
            "_view_name": "HTMLView",
            "description": "",
            "description_tooltip": null,
            "layout": "IPY_MODEL_60cf930e34cd4b75859f635feb355c43",
            "placeholder": "​",
            "style": "IPY_MODEL_fb0b7f756375412580b6319d08c7aeb6",
            "value": "Generating train split: "
          }
        },
        "87fffcd4ff414fa2bf8f9f4419cbf4cd": {
          "model_module": "@jupyter-widgets/controls",
          "model_name": "FloatProgressModel",
          "model_module_version": "1.5.0",
          "state": {
            "_dom_classes": [],
            "_model_module": "@jupyter-widgets/controls",
            "_model_module_version": "1.5.0",
            "_model_name": "FloatProgressModel",
            "_view_count": null,
            "_view_module": "@jupyter-widgets/controls",
            "_view_module_version": "1.5.0",
            "_view_name": "ProgressView",
            "bar_style": "success",
            "description": "",
            "description_tooltip": null,
            "layout": "IPY_MODEL_b727cb13860840d0aa6c36a0e96ea0aa",
            "max": 1,
            "min": 0,
            "orientation": "horizontal",
            "style": "IPY_MODEL_d3e844d918504908b162f84909a955b5",
            "value": 1
          }
        },
        "4bf3b14342564f439d310a1ccefb271d": {
          "model_module": "@jupyter-widgets/controls",
          "model_name": "HTMLModel",
          "model_module_version": "1.5.0",
          "state": {
            "_dom_classes": [],
            "_model_module": "@jupyter-widgets/controls",
            "_model_module_version": "1.5.0",
            "_model_name": "HTMLModel",
            "_view_count": null,
            "_view_module": "@jupyter-widgets/controls",
            "_view_module_version": "1.5.0",
            "_view_name": "HTMLView",
            "description": "",
            "description_tooltip": null,
            "layout": "IPY_MODEL_34111279c9b144d1aa88f992f2c95912",
            "placeholder": "​",
            "style": "IPY_MODEL_d6fbd8c1f6c7401cbf77533636fa7c32",
            "value": " 111565/0 [00:00&lt;00:00, 284025.80 examples/s]"
          }
        },
        "859e5f14b8f04ffd8ebb32ba085ce59e": {
          "model_module": "@jupyter-widgets/base",
          "model_name": "LayoutModel",
          "model_module_version": "1.2.0",
          "state": {
            "_model_module": "@jupyter-widgets/base",
            "_model_module_version": "1.2.0",
            "_model_name": "LayoutModel",
            "_view_count": null,
            "_view_module": "@jupyter-widgets/base",
            "_view_module_version": "1.2.0",
            "_view_name": "LayoutView",
            "align_content": null,
            "align_items": null,
            "align_self": null,
            "border": null,
            "bottom": null,
            "display": null,
            "flex": null,
            "flex_flow": null,
            "grid_area": null,
            "grid_auto_columns": null,
            "grid_auto_flow": null,
            "grid_auto_rows": null,
            "grid_column": null,
            "grid_gap": null,
            "grid_row": null,
            "grid_template_areas": null,
            "grid_template_columns": null,
            "grid_template_rows": null,
            "height": null,
            "justify_content": null,
            "justify_items": null,
            "left": null,
            "margin": null,
            "max_height": null,
            "max_width": null,
            "min_height": null,
            "min_width": null,
            "object_fit": null,
            "object_position": null,
            "order": null,
            "overflow": null,
            "overflow_x": null,
            "overflow_y": null,
            "padding": null,
            "right": null,
            "top": null,
            "visibility": null,
            "width": null
          }
        },
        "60cf930e34cd4b75859f635feb355c43": {
          "model_module": "@jupyter-widgets/base",
          "model_name": "LayoutModel",
          "model_module_version": "1.2.0",
          "state": {
            "_model_module": "@jupyter-widgets/base",
            "_model_module_version": "1.2.0",
            "_model_name": "LayoutModel",
            "_view_count": null,
            "_view_module": "@jupyter-widgets/base",
            "_view_module_version": "1.2.0",
            "_view_name": "LayoutView",
            "align_content": null,
            "align_items": null,
            "align_self": null,
            "border": null,
            "bottom": null,
            "display": null,
            "flex": null,
            "flex_flow": null,
            "grid_area": null,
            "grid_auto_columns": null,
            "grid_auto_flow": null,
            "grid_auto_rows": null,
            "grid_column": null,
            "grid_gap": null,
            "grid_row": null,
            "grid_template_areas": null,
            "grid_template_columns": null,
            "grid_template_rows": null,
            "height": null,
            "justify_content": null,
            "justify_items": null,
            "left": null,
            "margin": null,
            "max_height": null,
            "max_width": null,
            "min_height": null,
            "min_width": null,
            "object_fit": null,
            "object_position": null,
            "order": null,
            "overflow": null,
            "overflow_x": null,
            "overflow_y": null,
            "padding": null,
            "right": null,
            "top": null,
            "visibility": null,
            "width": null
          }
        },
        "fb0b7f756375412580b6319d08c7aeb6": {
          "model_module": "@jupyter-widgets/controls",
          "model_name": "DescriptionStyleModel",
          "model_module_version": "1.5.0",
          "state": {
            "_model_module": "@jupyter-widgets/controls",
            "_model_module_version": "1.5.0",
            "_model_name": "DescriptionStyleModel",
            "_view_count": null,
            "_view_module": "@jupyter-widgets/base",
            "_view_module_version": "1.2.0",
            "_view_name": "StyleView",
            "description_width": ""
          }
        },
        "b727cb13860840d0aa6c36a0e96ea0aa": {
          "model_module": "@jupyter-widgets/base",
          "model_name": "LayoutModel",
          "model_module_version": "1.2.0",
          "state": {
            "_model_module": "@jupyter-widgets/base",
            "_model_module_version": "1.2.0",
            "_model_name": "LayoutModel",
            "_view_count": null,
            "_view_module": "@jupyter-widgets/base",
            "_view_module_version": "1.2.0",
            "_view_name": "LayoutView",
            "align_content": null,
            "align_items": null,
            "align_self": null,
            "border": null,
            "bottom": null,
            "display": null,
            "flex": null,
            "flex_flow": null,
            "grid_area": null,
            "grid_auto_columns": null,
            "grid_auto_flow": null,
            "grid_auto_rows": null,
            "grid_column": null,
            "grid_gap": null,
            "grid_row": null,
            "grid_template_areas": null,
            "grid_template_columns": null,
            "grid_template_rows": null,
            "height": null,
            "justify_content": null,
            "justify_items": null,
            "left": null,
            "margin": null,
            "max_height": null,
            "max_width": null,
            "min_height": null,
            "min_width": null,
            "object_fit": null,
            "object_position": null,
            "order": null,
            "overflow": null,
            "overflow_x": null,
            "overflow_y": null,
            "padding": null,
            "right": null,
            "top": null,
            "visibility": null,
            "width": "20px"
          }
        },
        "d3e844d918504908b162f84909a955b5": {
          "model_module": "@jupyter-widgets/controls",
          "model_name": "ProgressStyleModel",
          "model_module_version": "1.5.0",
          "state": {
            "_model_module": "@jupyter-widgets/controls",
            "_model_module_version": "1.5.0",
            "_model_name": "ProgressStyleModel",
            "_view_count": null,
            "_view_module": "@jupyter-widgets/base",
            "_view_module_version": "1.2.0",
            "_view_name": "StyleView",
            "bar_color": null,
            "description_width": ""
          }
        },
        "34111279c9b144d1aa88f992f2c95912": {
          "model_module": "@jupyter-widgets/base",
          "model_name": "LayoutModel",
          "model_module_version": "1.2.0",
          "state": {
            "_model_module": "@jupyter-widgets/base",
            "_model_module_version": "1.2.0",
            "_model_name": "LayoutModel",
            "_view_count": null,
            "_view_module": "@jupyter-widgets/base",
            "_view_module_version": "1.2.0",
            "_view_name": "LayoutView",
            "align_content": null,
            "align_items": null,
            "align_self": null,
            "border": null,
            "bottom": null,
            "display": null,
            "flex": null,
            "flex_flow": null,
            "grid_area": null,
            "grid_auto_columns": null,
            "grid_auto_flow": null,
            "grid_auto_rows": null,
            "grid_column": null,
            "grid_gap": null,
            "grid_row": null,
            "grid_template_areas": null,
            "grid_template_columns": null,
            "grid_template_rows": null,
            "height": null,
            "justify_content": null,
            "justify_items": null,
            "left": null,
            "margin": null,
            "max_height": null,
            "max_width": null,
            "min_height": null,
            "min_width": null,
            "object_fit": null,
            "object_position": null,
            "order": null,
            "overflow": null,
            "overflow_x": null,
            "overflow_y": null,
            "padding": null,
            "right": null,
            "top": null,
            "visibility": null,
            "width": null
          }
        },
        "d6fbd8c1f6c7401cbf77533636fa7c32": {
          "model_module": "@jupyter-widgets/controls",
          "model_name": "DescriptionStyleModel",
          "model_module_version": "1.5.0",
          "state": {
            "_model_module": "@jupyter-widgets/controls",
            "_model_module_version": "1.5.0",
            "_model_name": "DescriptionStyleModel",
            "_view_count": null,
            "_view_module": "@jupyter-widgets/base",
            "_view_module_version": "1.2.0",
            "_view_name": "StyleView",
            "description_width": ""
          }
        },
        "e40a8c6ea0b545ab9cc9ee7616593d42": {
          "model_module": "@jupyter-widgets/controls",
          "model_name": "HBoxModel",
          "model_module_version": "1.5.0",
          "state": {
            "_dom_classes": [],
            "_model_module": "@jupyter-widgets/controls",
            "_model_module_version": "1.5.0",
            "_model_name": "HBoxModel",
            "_view_count": null,
            "_view_module": "@jupyter-widgets/controls",
            "_view_module_version": "1.5.0",
            "_view_name": "HBoxView",
            "box_style": "",
            "children": [
              "IPY_MODEL_cbb3b03e86634906ad0bc449b8babf2d",
              "IPY_MODEL_2365644a62394afb8e0aa88e4bcffc43",
              "IPY_MODEL_9889d0bf98324a28877d2f1539bfd7a5"
            ],
            "layout": "IPY_MODEL_cf8676fcab924ff5a515db6d142fe99c"
          }
        },
        "cbb3b03e86634906ad0bc449b8babf2d": {
          "model_module": "@jupyter-widgets/controls",
          "model_name": "HTMLModel",
          "model_module_version": "1.5.0",
          "state": {
            "_dom_classes": [],
            "_model_module": "@jupyter-widgets/controls",
            "_model_module_version": "1.5.0",
            "_model_name": "HTMLModel",
            "_view_count": null,
            "_view_module": "@jupyter-widgets/controls",
            "_view_module_version": "1.5.0",
            "_view_name": "HTMLView",
            "description": "",
            "description_tooltip": null,
            "layout": "IPY_MODEL_c8368ccd717a4f24adbc6ac0b2f00744",
            "placeholder": "​",
            "style": "IPY_MODEL_619b093e4fd84ff29fae1a15965d7272",
            "value": "Generating dev split: "
          }
        },
        "2365644a62394afb8e0aa88e4bcffc43": {
          "model_module": "@jupyter-widgets/controls",
          "model_name": "FloatProgressModel",
          "model_module_version": "1.5.0",
          "state": {
            "_dom_classes": [],
            "_model_module": "@jupyter-widgets/controls",
            "_model_module_version": "1.5.0",
            "_model_name": "FloatProgressModel",
            "_view_count": null,
            "_view_module": "@jupyter-widgets/controls",
            "_view_module_version": "1.5.0",
            "_view_name": "ProgressView",
            "bar_style": "success",
            "description": "",
            "description_tooltip": null,
            "layout": "IPY_MODEL_1bd31223a4ab49e2ad120198f77ea2f4",
            "max": 1,
            "min": 0,
            "orientation": "horizontal",
            "style": "IPY_MODEL_d98f2a1613224c31929d2409782c7213",
            "value": 1
          }
        },
        "9889d0bf98324a28877d2f1539bfd7a5": {
          "model_module": "@jupyter-widgets/controls",
          "model_name": "HTMLModel",
          "model_module_version": "1.5.0",
          "state": {
            "_dom_classes": [],
            "_model_module": "@jupyter-widgets/controls",
            "_model_module_version": "1.5.0",
            "_model_name": "HTMLModel",
            "_view_count": null,
            "_view_module": "@jupyter-widgets/controls",
            "_view_module_version": "1.5.0",
            "_view_name": "HTMLView",
            "description": "",
            "description_tooltip": null,
            "layout": "IPY_MODEL_87c817a4c9004d2c8baaa518b5fc4c39",
            "placeholder": "​",
            "style": "IPY_MODEL_b6d246d3158546fd9f746e9d7b21b000",
            "value": " 11675/0 [00:00&lt;00:00, 307639.39 examples/s]"
          }
        },
        "cf8676fcab924ff5a515db6d142fe99c": {
          "model_module": "@jupyter-widgets/base",
          "model_name": "LayoutModel",
          "model_module_version": "1.2.0",
          "state": {
            "_model_module": "@jupyter-widgets/base",
            "_model_module_version": "1.2.0",
            "_model_name": "LayoutModel",
            "_view_count": null,
            "_view_module": "@jupyter-widgets/base",
            "_view_module_version": "1.2.0",
            "_view_name": "LayoutView",
            "align_content": null,
            "align_items": null,
            "align_self": null,
            "border": null,
            "bottom": null,
            "display": null,
            "flex": null,
            "flex_flow": null,
            "grid_area": null,
            "grid_auto_columns": null,
            "grid_auto_flow": null,
            "grid_auto_rows": null,
            "grid_column": null,
            "grid_gap": null,
            "grid_row": null,
            "grid_template_areas": null,
            "grid_template_columns": null,
            "grid_template_rows": null,
            "height": null,
            "justify_content": null,
            "justify_items": null,
            "left": null,
            "margin": null,
            "max_height": null,
            "max_width": null,
            "min_height": null,
            "min_width": null,
            "object_fit": null,
            "object_position": null,
            "order": null,
            "overflow": null,
            "overflow_x": null,
            "overflow_y": null,
            "padding": null,
            "right": null,
            "top": null,
            "visibility": null,
            "width": null
          }
        },
        "c8368ccd717a4f24adbc6ac0b2f00744": {
          "model_module": "@jupyter-widgets/base",
          "model_name": "LayoutModel",
          "model_module_version": "1.2.0",
          "state": {
            "_model_module": "@jupyter-widgets/base",
            "_model_module_version": "1.2.0",
            "_model_name": "LayoutModel",
            "_view_count": null,
            "_view_module": "@jupyter-widgets/base",
            "_view_module_version": "1.2.0",
            "_view_name": "LayoutView",
            "align_content": null,
            "align_items": null,
            "align_self": null,
            "border": null,
            "bottom": null,
            "display": null,
            "flex": null,
            "flex_flow": null,
            "grid_area": null,
            "grid_auto_columns": null,
            "grid_auto_flow": null,
            "grid_auto_rows": null,
            "grid_column": null,
            "grid_gap": null,
            "grid_row": null,
            "grid_template_areas": null,
            "grid_template_columns": null,
            "grid_template_rows": null,
            "height": null,
            "justify_content": null,
            "justify_items": null,
            "left": null,
            "margin": null,
            "max_height": null,
            "max_width": null,
            "min_height": null,
            "min_width": null,
            "object_fit": null,
            "object_position": null,
            "order": null,
            "overflow": null,
            "overflow_x": null,
            "overflow_y": null,
            "padding": null,
            "right": null,
            "top": null,
            "visibility": null,
            "width": null
          }
        },
        "619b093e4fd84ff29fae1a15965d7272": {
          "model_module": "@jupyter-widgets/controls",
          "model_name": "DescriptionStyleModel",
          "model_module_version": "1.5.0",
          "state": {
            "_model_module": "@jupyter-widgets/controls",
            "_model_module_version": "1.5.0",
            "_model_name": "DescriptionStyleModel",
            "_view_count": null,
            "_view_module": "@jupyter-widgets/base",
            "_view_module_version": "1.2.0",
            "_view_name": "StyleView",
            "description_width": ""
          }
        },
        "1bd31223a4ab49e2ad120198f77ea2f4": {
          "model_module": "@jupyter-widgets/base",
          "model_name": "LayoutModel",
          "model_module_version": "1.2.0",
          "state": {
            "_model_module": "@jupyter-widgets/base",
            "_model_module_version": "1.2.0",
            "_model_name": "LayoutModel",
            "_view_count": null,
            "_view_module": "@jupyter-widgets/base",
            "_view_module_version": "1.2.0",
            "_view_name": "LayoutView",
            "align_content": null,
            "align_items": null,
            "align_self": null,
            "border": null,
            "bottom": null,
            "display": null,
            "flex": null,
            "flex_flow": null,
            "grid_area": null,
            "grid_auto_columns": null,
            "grid_auto_flow": null,
            "grid_auto_rows": null,
            "grid_column": null,
            "grid_gap": null,
            "grid_row": null,
            "grid_template_areas": null,
            "grid_template_columns": null,
            "grid_template_rows": null,
            "height": null,
            "justify_content": null,
            "justify_items": null,
            "left": null,
            "margin": null,
            "max_height": null,
            "max_width": null,
            "min_height": null,
            "min_width": null,
            "object_fit": null,
            "object_position": null,
            "order": null,
            "overflow": null,
            "overflow_x": null,
            "overflow_y": null,
            "padding": null,
            "right": null,
            "top": null,
            "visibility": null,
            "width": "20px"
          }
        },
        "d98f2a1613224c31929d2409782c7213": {
          "model_module": "@jupyter-widgets/controls",
          "model_name": "ProgressStyleModel",
          "model_module_version": "1.5.0",
          "state": {
            "_model_module": "@jupyter-widgets/controls",
            "_model_module_version": "1.5.0",
            "_model_name": "ProgressStyleModel",
            "_view_count": null,
            "_view_module": "@jupyter-widgets/base",
            "_view_module_version": "1.2.0",
            "_view_name": "StyleView",
            "bar_color": null,
            "description_width": ""
          }
        },
        "87c817a4c9004d2c8baaa518b5fc4c39": {
          "model_module": "@jupyter-widgets/base",
          "model_name": "LayoutModel",
          "model_module_version": "1.2.0",
          "state": {
            "_model_module": "@jupyter-widgets/base",
            "_model_module_version": "1.2.0",
            "_model_name": "LayoutModel",
            "_view_count": null,
            "_view_module": "@jupyter-widgets/base",
            "_view_module_version": "1.2.0",
            "_view_name": "LayoutView",
            "align_content": null,
            "align_items": null,
            "align_self": null,
            "border": null,
            "bottom": null,
            "display": null,
            "flex": null,
            "flex_flow": null,
            "grid_area": null,
            "grid_auto_columns": null,
            "grid_auto_flow": null,
            "grid_auto_rows": null,
            "grid_column": null,
            "grid_gap": null,
            "grid_row": null,
            "grid_template_areas": null,
            "grid_template_columns": null,
            "grid_template_rows": null,
            "height": null,
            "justify_content": null,
            "justify_items": null,
            "left": null,
            "margin": null,
            "max_height": null,
            "max_width": null,
            "min_height": null,
            "min_width": null,
            "object_fit": null,
            "object_position": null,
            "order": null,
            "overflow": null,
            "overflow_x": null,
            "overflow_y": null,
            "padding": null,
            "right": null,
            "top": null,
            "visibility": null,
            "width": null
          }
        },
        "b6d246d3158546fd9f746e9d7b21b000": {
          "model_module": "@jupyter-widgets/controls",
          "model_name": "DescriptionStyleModel",
          "model_module_version": "1.5.0",
          "state": {
            "_model_module": "@jupyter-widgets/controls",
            "_model_module_version": "1.5.0",
            "_model_name": "DescriptionStyleModel",
            "_view_count": null,
            "_view_module": "@jupyter-widgets/base",
            "_view_module_version": "1.2.0",
            "_view_name": "StyleView",
            "description_width": ""
          }
        }
      }
    }
  },
  "nbformat": 4,
  "nbformat_minor": 5
}